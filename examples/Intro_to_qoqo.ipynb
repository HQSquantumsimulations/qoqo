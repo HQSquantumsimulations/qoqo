{
 "cells": [
  {
   "cell_type": "markdown",
   "id": "linear-albania",
   "metadata": {},
   "source": [
    "# Introduction to Qoqo\n",
    "Quantum Operation Quantum Operation  \n",
    "Yes, we use [reduplication](https://en.wikipedia.org/wiki/Reduplication)\n",
    "\n",
    "What Qoqo is\n",
    "* A toolkit to represent quantum operations and circuits\n",
    "* A thin runtime to run quantum measurements\n",
    "* A way to serialize quantum circuits and measurement information\n",
    "* A set of optional interfaces to devices, simulators and toolkits\n",
    "\n",
    "What Qoqo is not\n",
    "* A decomposer translating circuits to a specific set of gates\n",
    "* A quantum circuit optimizer\n",
    "* A collection of quantum algorithms\n"
   ]
  },
  {
   "cell_type": "markdown",
   "id": "amber-jungle",
   "metadata": {},
   "source": [
    "## A simple circuit and measurement\n",
    "\n",
    "We show the construction of a simple entangling circuit and an observable measurement based on this circuit"
   ]
  },
  {
   "cell_type": "markdown",
   "id": "secondary-accused",
   "metadata": {},
   "source": [
    "### Entangling circuit snippet\n",
    "Similar to many other toolkits the unitary entangling circuit can be constructed by adding operations to a circuit"
   ]
  },
  {
   "cell_type": "code",
   "execution_count": 10,
   "id": "capable-dallas",
   "metadata": {},
   "outputs": [
    {
     "name": "stdout",
     "output_type": "stream",
     "text": [
      "Hadamard 0\n",
      "CNOT 0 1\n",
      "\n",
      "2\n",
      "['Hadamard', 'CNOT']\n"
     ]
    }
   ],
   "source": [
    "from qoqo import Circuit\n",
    "from qoqo import operations as ops\n",
    "\n",
    "circuit_snippet = Circuit()\n",
    "circuit_snippet += ops.Hadamard(qubit=0)\n",
    "circuit_snippet += ops.CNOT(control=0, qubit=1)\n",
    "print(circuit_snippet)\n",
    "print(len(circuit_snippet))\n",
    "print(circuit_snippet.get_operation_types())"
   ]
  },
  {
   "cell_type": "markdown",
   "id": "marine-socket",
   "metadata": {},
   "source": [
    "### Measuring qubits\n",
    "Qoqo uses classical registers for the readout. We need to add a classical register definition to the circuit and a measurement statement.\n",
    "The number of projective measurements can be directly set in the circuit.  \n",
    "The simulation and measurement of the circuit is handled by the qoqo_pyquest interface (in this example)."
   ]
  },
  {
   "cell_type": "code",
   "execution_count": 11,
   "id": "middle-emerald",
   "metadata": {},
   "outputs": [
    {
     "name": "stdout",
     "output_type": "stream",
     "text": [
      "Definition(False,True) ro BIT[2]\n",
      "Hadamard 0\n",
      "CNOT 0 1\n",
      "PragmaRepeatedMeasurement(10) ALL ro\n",
      "\n",
      "[1. 1.]\n",
      "[0. 0.]\n",
      "[1. 1.]\n",
      "[1. 1.]\n",
      "[0. 0.]\n",
      "[1. 1.]\n",
      "[1. 1.]\n",
      "[0. 0.]\n",
      "[0. 0.]\n",
      "[0. 0.]\n"
     ]
    }
   ],
   "source": [
    "from qoqo_pyquest import PyQuestBackend\n",
    "from qoqo import Circuit\n",
    "from qoqo import operations as ops\n",
    "\n",
    "circuit = Circuit()\n",
    "circuit += ops.Definition(name='ro', vartype='bit', length=2, is_output=True)\n",
    "circuit += ops.Hadamard(qubit=0)\n",
    "circuit += ops.CNOT(control=0, qubit=1)\n",
    "circuit += ops.PragmaRepeatedMeasurement(readout='ro', number_measurements=10)\n",
    "print(circuit)\n",
    "backend = PyQuestBackend(circuit=circuit, number_qubits=2)\n",
    "result = backend.run()\n",
    "for single_projective_measurement in result['ro'].register:\n",
    "    print(single_projective_measurement)"
   ]
  },
  {
   "cell_type": "markdown",
   "id": "interesting-screw",
   "metadata": {},
   "source": [
    "### Measuring Observables\n",
    "Qoqo includes the direct evaluation of projective measurements to an observable measurement e.g. 3 * < Z0 > + < Z0 Z1 >  \n",
    "The measurement is defined by a set of expectation values of a product of pauli operators and a matrix that combines the expectation values  "
   ]
  },
  {
   "cell_type": "code",
   "execution_count": 12,
   "id": "impossible-civilization",
   "metadata": {},
   "outputs": [
    {
     "data": {
      "text/plain": [
       "2.2"
      ]
     },
     "execution_count": 12,
     "metadata": {},
     "output_type": "execute_result"
    }
   ],
   "source": [
    "from qoqo.measurements import BRMeasurementInput, BasisRotationMeasurement\n",
    "from qoqo import DoUnitary\n",
    "from qoqo_pyquest import PyQuestBackend\n",
    "from qoqo import Circuit\n",
    "from qoqo import operations as ops\n",
    "import numpy as np\n",
    "import scipy.sparse as sp\n",
    "\n",
    "circuit = Circuit()\n",
    "circuit += ops.Definition(name='ro', vartype='bit', length=2, is_output=True)\n",
    "circuit += ops.Hadamard(qubit=0)\n",
    "circuit += ops.CNOT(control=0, qubit=1)\n",
    "circuit += ops.PragmaRepeatedMeasurement(readout='ro', number_measurements=10)\n",
    "\n",
    "measurement_input = BRMeasurementInput(\n",
    "    pauli_product_qubit_masks={'ro': {0: [0], 1: [0, 1]}}, # From readout 'ro' measure two pauli products 0: < Z0 > and 1: < Z0 Z1 >\n",
    "    pp_to_exp_val_matrix= np.array([[3, 1]]), # One expectation value: 3 * pauli_product0 + 1 * pauli_product1\n",
    "    number_qubits=2,\n",
    "    number_pauli_products=2,\n",
    "    measured_exp_vals=['example'])\n",
    "\n",
    "measurement = BasisRotationMeasurement(measurement_input=measurement_input, circuit_list=[circuit], verbose=False)\n",
    "\n",
    "backend = PyQuestBackend(circuit=circuit, number_qubits=2)\n",
    "\n",
    "do_unitary = DoUnitary(measurement=measurement, backend=backend, free_parameters=[]) # This quantum program does not have any free parameters\n",
    "do_unitary()[0]"
   ]
  },
  {
   "cell_type": "markdown",
   "id": "typical-contract",
   "metadata": {},
   "source": [
    "### De/Serializing the quantum program"
   ]
  },
  {
   "cell_type": "code",
   "execution_count": 14,
   "id": "generous-voluntary",
   "metadata": {},
   "outputs": [],
   "source": [
    "from qoqo.measurements import BRMeasurementInput, BasisRotationMeasurement\n",
    "from qoqo import DoUnitary\n",
    "from qoqo_pyquest import PyQuestBackend\n",
    "from qoqo import Circuit\n",
    "from qoqo import operations as ops\n",
    "import numpy as np\n",
    "import scipy.sparse as sp\n",
    "from hqsbase.qonfig import Qonfig\n",
    "\n",
    "circuit = Circuit()\n",
    "circuit += ops.Definition(name='ro', vartype='bit', length=2, is_output=True)\n",
    "circuit += ops.Hadamard(qubit=0)\n",
    "circuit += ops.CNOT(control=0, qubit=1)\n",
    "circuit += ops.PragmaRepeatedMeasurement(readout='ro', number_measurements=10)\n",
    "\n",
    "measurement_input = BRMeasurementInput(\n",
    "    pauli_product_qubit_masks={'ro': {0: [0], 1: [0, 1]}}, # From readout 'ro' measure two pauli products 0: < Z0 > and 1: < Z0 Z1 >\n",
    "    pp_to_exp_val_matrix= np.array([[3,1]]), # One expectation value: 3 * pauli_product0 + 1 * pauli_product1\n",
    "    number_qubits=2,\n",
    "    number_pauli_products=2,\n",
    "    measured_exp_vals=['example'])\n",
    "\n",
    "measurement = BasisRotationMeasurement(measurement_input=measurement_input, circuit_list=[circuit], verbose=False)\n",
    "measurement_json = measurement.to_qonfig().to_json()\n",
    "\n",
    "measurement = Qonfig.from_json(measurement_json).to_instance()\n",
    "\n",
    "#print(measurement_json)"
   ]
  },
  {
   "cell_type": "markdown",
   "id": "parliamentary-statistics",
   "metadata": {},
   "source": [
    "## Fine control over decoherence\n",
    "Qoqo allows full control over decoherence by placing decoherence operations in the circuit on the same level as gates.  \n",
    "Example: Letting only one qubit decay.  \n",
    "The backend automatically switches from statevector simulation to density matrix simulation in the presence of noise."
   ]
  },
  {
   "cell_type": "code",
   "execution_count": 18,
   "id": "dedicated-plane",
   "metadata": {},
   "outputs": [
    {
     "name": "stdout",
     "output_type": "stream",
     "text": [
      "Definition(False,True) ro BIT[2]\n",
      "PauliX 0\n",
      "PauliX 1\n",
      "PragmaDamping(1e0, 1e-1) 0\n",
      "PragmaRepeatedMeasurement(100000) ALL ro\n",
      "\n"
     ]
    },
    {
     "data": {
      "text/plain": [
       "array([0.90556, 1.     ])"
      ]
     },
     "execution_count": 18,
     "metadata": {},
     "output_type": "execute_result"
    }
   ],
   "source": [
    "from qoqo_pyquest import PyQuestBackend\n",
    "from qoqo import Circuit\n",
    "from qoqo import operations as ops\n",
    "\n",
    "damping = 0.1\n",
    "number_measurements = 100000\n",
    "circuit = Circuit()\n",
    "circuit += ops.Definition(name='ro', vartype='bit', length=2, is_output=True)\n",
    "circuit += ops.PauliX(qubit=0)\n",
    "circuit += ops.PauliX(qubit=1)\n",
    "circuit += ops.PragmaDamping(qubit=0, gate_time=1, rate=damping)\n",
    "circuit += ops.PragmaRepeatedMeasurement(readout='ro', number_measurements=number_measurements)\n",
    "print(circuit)\n",
    "backend = PyQuestBackend(circuit=circuit, number_qubits=2)\n",
    "result = backend.run()\n",
    "sum_test = np.array([0.0, 0.0])\n",
    "for single_projective_measurement in result['ro'].register:\n",
    "    #print(single_projective_measurement)\n",
    "    sum_test += single_projective_measurement\n",
    "sum_test/number_measurements\n"
   ]
  },
  {
   "cell_type": "markdown",
   "id": "prostate-analysis",
   "metadata": {},
   "source": [
    "## Symbolic parameters\n",
    "In many cases, operation parameters depend on a symbolic parameter of the whole quantum program (time in time-evolution, overrotation, variational parameters...)  \n",
    "Qoqo allows the fast calculation of symbolic parameter expressions.  \n",
    "Expressions are provided in string form.  \n",
    "DoUnitary can automatically replace symbolic parameters using call parameters."
   ]
  },
  {
   "cell_type": "markdown",
   "id": "cross-forest",
   "metadata": {},
   "source": [
    "### Writing the symbolic circuit and replacing symbolic parameters"
   ]
  },
  {
   "cell_type": "code",
   "execution_count": 20,
   "id": "exposed-generation",
   "metadata": {},
   "outputs": [
    {
     "name": "stdout",
     "output_type": "stream",
     "text": [
      "Symbolic circuit\n",
      "RotateX(3*time+offset) 0\n",
      "\n",
      "After substitution\n",
      "RotateX(2e0) 0\n",
      "\n"
     ]
    }
   ],
   "source": [
    "from qoqo import Circuit\n",
    "from qoqo import operations as ops\n",
    "circuit = Circuit()\n",
    "print('Symbolic circuit')\n",
    "circuit += ops.RotateX(qubit=0, theta='3*time+offset')\n",
    "\n",
    "print(circuit)\n",
    "\n",
    "circuit.substitute_parameters({'time': 1/3, 'offset':1})\n",
    "print('After substitution')\n",
    "print(circuit)\n"
   ]
  },
  {
   "cell_type": "markdown",
   "id": "talented-operations",
   "metadata": {},
   "source": [
    "### Symbolic parameters in a full quantum program"
   ]
  },
  {
   "cell_type": "code",
   "execution_count": 22,
   "id": "proof-lancaster",
   "metadata": {},
   "outputs": [
    {
     "data": {
      "text/plain": [
       "exp_val_example             0.0706\n",
       "unitary_parameter_time      0.5000\n",
       "unitary_parameter_offset    0.0000\n",
       "dtype: float64"
      ]
     },
     "execution_count": 22,
     "metadata": {},
     "output_type": "execute_result"
    }
   ],
   "source": [
    "from qoqo.measurements import BRMeasurementInput, BasisRotationMeasurement\n",
    "from qoqo import DoUnitary\n",
    "from qoqo_pyquest import PyQuestBackend\n",
    "from qoqo import Circuit\n",
    "from qoqo import operations as ops\n",
    "import numpy as np\n",
    "import scipy.sparse as sp\n",
    "\n",
    "number_measurements = 100000\n",
    "\n",
    "circuit = Circuit()\n",
    "circuit += ops.Definition(name='ro', vartype='bit', length=2, is_output=True)\n",
    "circuit += ops.RotateX(qubit=0, theta='3*time+offset')\n",
    "circuit += ops.PragmaRepeatedMeasurement(readout='ro', number_measurements=number_measurements)\n",
    "\n",
    "measurement_input = BRMeasurementInput(\n",
    "    pauli_product_qubit_masks={'ro': {0: [0]}}, # From readout 'ro' measure one pauli product 0: < Z0 > \n",
    "    pp_to_exp_val_matrix= np.array([[1]]), # One expectation value: 1* pauli_product0\n",
    "    number_qubits=1,\n",
    "    number_pauli_products=1,\n",
    "    measured_exp_vals=['example'])\n",
    "\n",
    "measurement = BasisRotationMeasurement(measurement_input=measurement_input, circuit_list=[circuit], verbose=False)\n",
    "\n",
    "backend = PyQuestBackend(circuit=circuit, number_qubits=2)\n",
    "\n",
    "do_unitary = DoUnitary(measurement=measurement, backend=backend, free_parameters=['time', 'offset']) # The symbolic parameter is the free parameter\n",
    "do_unitary([0.5, 0])"
   ]
  },
  {
   "cell_type": "markdown",
   "id": "ready-benjamin",
   "metadata": {},
   "source": [
    "## Testing scaling performance with qoqo_mock\n",
    "Quantum simulators cannot simulate systems with a significant number of qubits fast enough to benchmark qoqo with a large number of qubits and operations.\n",
    "The qoqo_mock interface can be used to benchmark qoqo without simulating a quantum computer."
   ]
  },
  {
   "cell_type": "code",
   "execution_count": 23,
   "id": "independent-staff",
   "metadata": {},
   "outputs": [
    {
     "name": "stdout",
     "output_type": "stream",
     "text": [
      "exp_val_example              1.0434\n",
      "unitary_parameter_theta_x    0.0000\n",
      "unitary_parameter_theta_y    1.0000\n",
      "unitary_parameter_theta_z    2.0000\n",
      "dtype: float64\n"
     ]
    },
    {
     "data": {
      "text/plain": [
       "4.043968541009235"
      ]
     },
     "execution_count": 23,
     "metadata": {},
     "output_type": "execute_result"
    }
   ],
   "source": [
    "from qoqo.measurements import BRMeasurementInput, BasisRotationMeasurement\n",
    "from qoqo import DoUnitary\n",
    "from qoqo_mock import MockedBackend\n",
    "from qoqo import Circuit\n",
    "from qoqo import operations as ops\n",
    "import numpy as np\n",
    "import timeit\n",
    "\n",
    "number_measurements = 10000\n",
    "number_operations = 1000000\n",
    "number_qubits = 500\n",
    "\n",
    "circuit = Circuit()\n",
    "\n",
    "circuit += ops.Definition(name='ro', vartype='bit', length=number_qubits, is_output=True)\n",
    "\n",
    "for i, q in zip(np.random.randint(0,4,number_operations), np.random.randint(0,500,number_operations)):\n",
    "    if i == 0:\n",
    "        circuit += ops.RotateX(qubit=q, theta=\"4*theta_x\")\n",
    "    if i == 1:\n",
    "        circuit += ops.RotateY(qubit=q, theta=\"2*theta_y\")\n",
    "    if i == 2:\n",
    "        circuit += ops.RotateZ(qubit=q, theta=\"3*theta_z\")\n",
    "    if i == 4:\n",
    "        circuit += ops.ControlledPauliZ(qubit=q, control=0)\n",
    "circuit += ops.PragmaRepeatedMeasurement(readout='ro', number_measurements=number_measurements)\n",
    "\n",
    "pp_dict = dict()\n",
    "pp_dict[number_qubits] = list()\n",
    "for i in range(number_qubits):\n",
    "    pp_dict[i] = [i]\n",
    "\n",
    "measurement_input = BRMeasurementInput(\n",
    "    pauli_product_qubit_masks={'ro': pp_dict},\n",
    "    pp_to_exp_val_matrix= np.ones((1,number_qubits+1)),\n",
    "    number_qubits=number_qubits,\n",
    "    number_pauli_products=number_qubits+1,\n",
    "    measured_exp_vals=['example'])\n",
    "\n",
    "measurement = BasisRotationMeasurement(measurement_input=measurement_input, circuit_list=[circuit], verbose=False)\n",
    "backend= MockedBackend(number_qubits=number_qubits, mocked_qubits=number_qubits)\n",
    "do_unitary = DoUnitary(measurement=measurement, backend=backend, free_parameters=['theta_x', 'theta_y', 'theta_z'])\n",
    "print(do_unitary([0,1,2]))\n",
    "timeit.timeit('do_unitary([0,1,2])', globals=globals(),number=1)"
   ]
  }
 ],
 "metadata": {
  "kernelspec": {
   "display_name": "Python 3",
   "language": "python",
   "name": "python3"
  },
  "language_info": {
   "codemirror_mode": {
    "name": "ipython",
    "version": 3
   },
   "file_extension": ".py",
   "mimetype": "text/x-python",
   "name": "python",
   "nbconvert_exporter": "python",
   "pygments_lexer": "ipython3",
   "version": "3.9.0"
  }
 },
 "nbformat": 4,
 "nbformat_minor": 5
}