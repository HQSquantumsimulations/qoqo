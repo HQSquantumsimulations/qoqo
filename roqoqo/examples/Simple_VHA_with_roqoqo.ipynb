{
 "cells": [
  {
   "cell_type": "markdown",
   "id": "linear-albania",
   "metadata": {},
   "source": [
    "# How to run a simple variational algorithm with roqoqo\n",
    "\n",
    "This example notebook is designed to show how to run a very simple variational algorithm with the rust core of qoqo - roqoqo. The variational algorithm will be a very simple example of a Variational Hamiltonian Ansatz (VHA), the code does not aim to get the best result possible but to show a very simple example.\n",
    "\n",
    "For detailed discussions of variational algorithms, VHA and different variants of these algorithms see the literature (e.g. http://arxiv.org/abs/1304.3061, http://arxiv.org/abs/1509.04279).\n"
   ]
  },
  {
   "cell_type": "markdown",
   "id": "amber-jungle",
   "metadata": {},
   "source": [
    "## Example: VHA for spins using roqoqo\n",
    "\n",
    "The goal of a variational algorithm is simple: finding a good approximation of the ground state of a physical system defined by a Hamiltonian H by minimizing the expectation value of H with respect to a set of trial states $| \\psi (\\vec{\\theta} )>$.\n",
    "The optimization is carried out by optimizing the classical parameters $\\vec{\\theta}$ defining the trial states.  \n",
    "By definition the ground state is the state with the lowest energy, so this approach will find the ground state if the ground-state is in the set of possible trial states and the classical optimizer is successfull.  \n",
    "\n",
    "The trial states are prepared by applying a set of unitary transformations to an initial state\n",
    "$$\n",
    "| \\psi (\\vec{\\theta}) > = \\prod_j U_j (\\vec{\\theta}) | \\psi_{\\textrm{init}} >.\n",
    "$$\n",
    "In a VHA the ansatz is to assume that the Hamiltonian can be separated into partial Hamiltonians\n",
    "$$\n",
    "H = \\sum_{\\alpha} H_{\\alpha}\n",
    "$$\n",
    "and use the time evolution under these partial Hamiltonians as the ansatz for the unitary transformations\n",
    "$$\n",
    "| \\psi (\\vec{\\theta}) > = \\prod_k^{N} \\prod_{\\alpha} \\exp(-i \\theta_{k,\\alpha} H_{\\alpha}) | \\psi_{\\textrm{init}}>,\n",
    "$$\n",
    "where N is the number of iterations of the pseudo time evolution and $(\\theta_{k,\\alpha})$ is the variational pseudo time.\n",
    "\n",
    "Here we use as a sample Hamiltonian a one-dimensional spin chain with three sites\n",
    "$$\n",
    "H = H_0 + H_1 + H_2\n",
    "$$\n",
    "where $H_0$ is the magnetic onsite energy\n",
    "$$\n",
    "H_0 = B \\left(\\sigma^z_0 + \\sigma^z_1 + \\sigma^z_0\\right),\n",
    "$$\n",
    "$H_1$ is the hopping between even and odd sites\n",
    "$$\n",
    "H_1 = t \\sigma^x_0\\sigma^x_1,\n",
    "$$\n",
    "and $H_2$ is the hopping between odd and even sites\n",
    "$$\n",
    "H_2 = t \\sigma^x_1\\sigma^x_2.\n",
    "$$\n"
   ]
  },
  {
   "cell_type": "markdown",
   "id": "secondary-accused",
   "metadata": {},
   "source": [
    "### The VHA example consists of the following steps:\n",
    "\n",
    "1. Define a circuit to initialize the initial state.\n",
    "2. Define a time evolution circuit that contains the variational parametere $\\vec{\\theta}$ as symbolic parameters.\n",
    "3. Define basis rotation (BR) measurement circuits and the measurement information containing t and B to measure the expectation value of $H$. \n",
    "4. Combine the parts in a qoqo DoUnitary quantum program that can be called with the free parameters and directly return the expectation values.\n",
    "5. Use the compact DoUnitary quantum program to optimize the free parameters $\\vec{\\theta}$.\n",
    "\n",
    "Additionally, an exact solution of the Hamiltonian is presented at the end to compare the exact results with the calculated solution."
   ]
  },
  {
   "cell_type": "code",
   "execution_count": 18,
   "id": "6e2e5012",
   "metadata": {},
   "outputs": [],
   "source": [
    ":dep num-complex = \"0.4\"\n",
    ":dep roqoqo = \"0.9.0\"\n",
    ":dep roqoqo-quest = \"0.2.0\"\n",
    ":dep qoqo_calculator = \"0.5\""
   ]
  },
  {
   "cell_type": "code",
   "execution_count": 38,
   "id": "capable-dallas",
   "metadata": {},
   "outputs": [],
   "source": [
    "extern crate num_complex;\n",
    "extern crate roqoqo;\n",
    "extern crate roqoqo_quest;\n",
    "extern crate ndarray;\n",
    "\n",
    "use roqoqo::{Circuit, operations::*, registers::*, QuantumProgram};\n",
    "// for measuring observables\n",
    "use roqoqo::measurements::{BasisRotationInput, BasisRotation};\n",
    "// simulation and measurement of the circuit is handled by the QuEST interface\n",
    "use roqoqo_quest::Backend;\n",
    "use qoqo_calculator::CalculatorFloat;\n",
    "\n",
    "use ndarray::{array, Array1};\n",
    "use num_complex::Complex64;\n",
    "\n",
    "// variables\n",
    "let number_measurements = 10000;\n",
    "let number_qubits: usize = 3;\n",
    "\n",
    "// parameters\n",
    "let magnetic_field: f64 = 1.0;\n",
    "let hopping_parameter: f64 = 3.0;"
   ]
  },
  {
   "cell_type": "markdown",
   "id": "marine-socket",
   "metadata": {},
   "source": [
    "### 1. Initialization of the state vector by roqoqo\n",
    "\n",
    "In principle the initial state $\\left|\\psi_{\\textrm{init}}\\right>$ has to be prepared with a full quantum circuit (e.g. http://arxiv.org/abs/1711.05395), since we want to keep the example simple we will use a \"cheated\" initial state instead.\n",
    "\n",
    "When using a simulator backend one can use a PRAGMA operation to \"cheat\" and directly set the state vector on the simulator. \n",
    "The n-th entry in the state vector corresponds to the basis state $|b(n,2) b(n,1) b(b,0)>$ where $b(n,k)$ gives the k-th enty of the binary representation of n.\n",
    "$$\n",
    "0 \\leftrightarrow |000>\n",
    "$$\n",
    "$$\n",
    "1 \\leftrightarrow |001>\n",
    "$$\n",
    "$$\n",
    "2 \\leftrightarrow |010>\n",
    "$$\n",
    "and so on.\n",
    "\n",
    "We choose a starting vector that is 50% in the single excitation subspace and 50% fully occupied \n",
    "$$\n",
    "|\\psi_{\\textrm{init}}> =  \\frac{1}{\\sqrt{6}}|001> + \\frac{1}{\\sqrt{6}} |010> + \\frac{1}{\\sqrt{6}} |100> + \\frac{1}{\\sqrt{2}} |111>.\n",
    "$$\n",
    "We do not include extra terms to change the number of excitations in the VHA ansatz. Choosing a good initial guess for the number of excitations helps with convergence. For VHA variations that automatically derive the right number of excitations see for example https://doi.org/10.1088/2058-9565/abe568."
   ]
  },
  {
   "cell_type": "code",
   "execution_count": 14,
   "id": "middle-emerald",
   "metadata": {},
   "outputs": [
    {
     "name": "stdout",
     "output_type": "stream",
     "text": [
      "Step 1: Constructed initialization circuit.\n",
      "Number of qubits in the system: 3.\n"
     ]
    }
   ],
   "source": [
    "let initial_statevector: Array1<Complex64> = array![\n",
    "    Complex64::new(0.0, 0.0),\n",
    "    Complex64::new(1.0/6_f64.sqrt(), 0.0),\n",
    "    Complex64::new(1.0/6_f64.sqrt(), 0.0),\n",
    "    Complex64::new(0.0, 0.0),\n",
    "    Complex64::new(1.0/6_f64.sqrt(), 0.0),\n",
    "    Complex64::new(0.0, 0.0),\n",
    "    Complex64::new(0.0, 0.0),\n",
    "    Complex64::new(1.0/2_f64.sqrt(), 0.0),\n",
    "];\n",
    "\n",
    "let mut circuit_init = Circuit::new();\n",
    "\n",
    "circuit_init += PragmaSetStateVector::new(initial_statevector.clone());\n",
    "\n",
    "println!(\"Step 1: Constructed initialization circuit.\");\n",
    "println!(\"{}{:?}{}\", \"Number of qubits in the system: \", number_qubits, \".\");"
   ]
  },
  {
   "cell_type": "markdown",
   "id": "interesting-screw",
   "metadata": {},
   "source": [
    "### 2. Unitary time evolution\n",
    "\n",
    "We construct circuits that apply time evolution under the even and odd hopping Hamiltonians and under the magnetic field using variables t (hopping_parameter) and B (magnetic_field).  \n",
    "For each iteration of the evolution we get free symbolic parameters theta_even_i, theta_odd_i and theta_z_i. "
   ]
  },
  {
   "cell_type": "code",
   "execution_count": 59,
   "id": "56aa625b",
   "metadata": {},
   "outputs": [
    {
     "name": "stdout",
     "output_type": "stream",
     "text": [
      "Circuit { definitions: [], operations: [Hadamard(Hadamard { qubit: 0 }), Hadamard(Hadamard { qubit: 1 }), CNOT(CNOT { control: 1, target: 0 }), RotateZ(RotateZ { qubit: 0, theta: Str(\"(string * 3e0)\") }), CNOT(CNOT { control: 1, target: 0 }), Hadamard(Hadamard { qubit: 0 }), Hadamard(Hadamard { qubit: 1 })] }\n",
      "Circuit { definitions: [], operations: [Hadamard(Hadamard { qubit: 1 }), Hadamard(Hadamard { qubit: 2 }), CNOT(CNOT { control: 2, target: 1 }), RotateZ(RotateZ { qubit: 1, theta: Str(\"(string * 3e0)\") }), CNOT(CNOT { control: 2, target: 1 }), Hadamard(Hadamard { qubit: 1 }), Hadamard(Hadamard { qubit: 2 }), Hadamard(Hadamard { qubit: 2 }), Hadamard(Hadamard { qubit: 0 }), CNOT(CNOT { control: 0, target: 2 }), RotateZ(RotateZ { qubit: 2, theta: Str(\"(string * 3e0)\") }), CNOT(CNOT { control: 0, target: 2 }), Hadamard(Hadamard { qubit: 2 }), Hadamard(Hadamard { qubit: 0 })] }\n"
     ]
    },
    {
     "data": {
      "text/plain": [
       "Circuit { definitions: [], operations: [RotateZ(RotateZ { qubit: 0, theta: Str(\"string\") }), RotateZ(RotateZ { qubit: 1, theta: Str(\"string\") }), RotateZ(RotateZ { qubit: 2, theta: Str(\"string\") })] }"
      ]
     },
     "execution_count": 59,
     "metadata": {},
     "output_type": "execute_result"
    }
   ],
   "source": [
    "/// Helper function to return a circuit for the time-like evolution under even-to-odd hopping.\n",
    "///\n",
    "/// # Arguments\n",
    "/// * thetasymb: symbolic parameter 'theta' of the even-to-odd time-like evolution.\n",
    "/// * number_qubits: number of qubits in the system.\n",
    "/// * hopping_parameter: parameter 't' for the hopping term of the Hamiltonian.\n",
    "pub fn create_even_hopping_circuit(thetasymb: CalculatorFloat, number_qubits: usize, hopping_parameter: f64) -> Circuit {\n",
    "    let mut circuit = Circuit::new();\n",
    "\n",
    "    // Representation of the \\sigma^x\\sigma^x interaction between two spins by the CNOT and Rotation gates\n",
    "    for k in (0..number_qubits-1).step_by(2) {\n",
    "        // Basis rotation into z-basis\n",
    "        circuit.add_operation(Hadamard::new(k));\n",
    "        circuit.add_operation(Hadamard::new(k+1));\n",
    "        // Interaction\n",
    "        circuit.add_operation(CNOT::new(k+1, k));\n",
    "        circuit.add_operation(RotateZ::new(k, (thetasymb.clone() * hopping_parameter).to_string().into()));\n",
    "        circuit.add_operation(CNOT::new(k+1, k));\n",
    "        // Basis rotation back into x-basis\n",
    "        circuit.add_operation(Hadamard::new(k));\n",
    "        circuit.add_operation(Hadamard::new(k+1))\n",
    "    }\n",
    "\n",
    "    return circuit;\n",
    "}\n",
    "\n",
    "/// Helper function to return a circuit for the time-like evolution under odd-to-even hopping.\n",
    "///\n",
    "/// # Arguments\n",
    "/// * thetasymb: symbolic parameter 'theta' of the odd-to-even time-like evolution.\n",
    "/// * number_qubits: number of qubits in the system.\n",
    "/// * hopping_parameter: parameter 't' for the hopping term of the Hamiltonian.\n",
    "pub fn create_odd_hopping_circuit(thetasymb: CalculatorFloat, number_qubits: usize, hopping_parameter: f64) -> Circuit {\n",
    "    let mut circuit = Circuit::new();\n",
    "\n",
    "    // Representation of the \\sigma^x\\sigma^x interaction between two spins by the CNOT and Rotation gates\n",
    "    for k in (1..number_qubits-1).step_by(2) {\n",
    "        // Basis rotation into z-basis\n",
    "        circuit.add_operation(Hadamard::new(k));\n",
    "        circuit.add_operation(Hadamard::new(k+1));\n",
    "        // Interaction\n",
    "        circuit.add_operation(CNOT::new(k+1, k));\n",
    "        circuit.add_operation(RotateZ::new(k, (thetasymb.clone() * hopping_parameter).to_string().into()));\n",
    "        circuit.add_operation(CNOT::new(k+1, k));\n",
    "        // Basis rotation back into x-basis\n",
    "        circuit.add_operation(Hadamard::new(k));\n",
    "        circuit.add_operation(Hadamard::new(k+1))\n",
    "    }\n",
    "\n",
    "    // Periodic boundary conditions\n",
    "    circuit.add_operation(Hadamard::new(number_qubits-1));\n",
    "    circuit.add_operation(Hadamard::new(0));\n",
    "    circuit.add_operation(CNOT::new(0, number_qubits - 1));\n",
    "    circuit.add_operation(RotateZ::new(number_qubits - 1, (thetasymb.clone() * hopping_parameter).to_string().into()));\n",
    "    circuit.add_operation(CNOT::new(0, number_qubits - 1));\n",
    "    circuit.add_operation(Hadamard::new(number_qubits-1));\n",
    "    circuit.add_operation(Hadamard::new(0));\n",
    "\n",
    "    return circuit;\n",
    "}\n",
    "\n",
    "/// Helper function to return a circuit for the time-like evolution under magnetic field.\n",
    "///\n",
    "/// # Arguments\n",
    "/// * thetasymb: symbolic parameter 'theta' of the z-rotation.\n",
    "/// * number_qubits: number of qubits in the system\n",
    "/// * magnetic_field: parameter 'B' for the magnetic term of the Hamiltonian.\n",
    "pub fn create_magnetic_field_circuit(thetasymb: CalculatorFloat, number_qubits: usize, magnetic_field: f64) -> Circuit {\n",
    "    let mut circuit = Circuit::new();\n",
    "\n",
    "    // Representation of the \\sigma^x\\sigma^x interaction between two spins by the CNOT and Rotation gates\n",
    "    for k in 0..number_qubits {\n",
    "        circuit.add_operation(RotateZ::new(k, (thetasymb.clone() * magnetic_field).to_string().into()));\n",
    "    }\n",
    "\n",
    "    return circuit;\n",
    "}"
   ]
  },
  {
   "cell_type": "code",
   "execution_count": 70,
   "id": "2dd2d2cf",
   "metadata": {},
   "outputs": [
    {
     "name": "stdout",
     "output_type": "stream",
     "text": [
      "Step 2: Constructed evolution circuit.\n",
      "Circuit { definitions: [], operations: [Hadamard(Hadamard { qubit: 0 }), Hadamard(Hadamard { qubit: 1 }), CNOT(CNOT { control: 1, target: 0 }), RotateZ(RotateZ { qubit: 0, theta: Str(\"(theta_even_1 * 3e0)\") }), CNOT(CNOT { control: 1, target: 0 }), Hadamard(Hadamard { qubit: 0 }), Hadamard(Hadamard { qubit: 1 }), Hadamard(Hadamard { qubit: 1 }), Hadamard(Hadamard { qubit: 2 }), CNOT(CNOT { control: 2, target: 1 }), RotateZ(RotateZ { qubit: 1, theta: Str(\"(theta_odd_1 * 3e0)\") }), CNOT(CNOT { control: 2, target: 1 }), Hadamard(Hadamard { qubit: 1 }), Hadamard(Hadamard { qubit: 2 }), Hadamard(Hadamard { qubit: 2 }), Hadamard(Hadamard { qubit: 0 }), CNOT(CNOT { control: 0, target: 2 }), RotateZ(RotateZ { qubit: 2, theta: Str(\"(theta_odd_1 * 3e0)\") }), CNOT(CNOT { control: 0, target: 2 }), Hadamard(Hadamard { qubit: 2 }), Hadamard(Hadamard { qubit: 0 }), RotateZ(RotateZ { qubit: 0, theta: Str(\"theta_z_1\") }), RotateZ(RotateZ { qubit: 1, theta: Str(\"theta_z_1\") }), RotateZ(RotateZ { qubit: 2, theta: Str(\"theta_z_1\") }), Hadamard(Hadamard { qubit: 0 }), Hadamard(Hadamard { qubit: 1 }), CNOT(CNOT { control: 1, target: 0 }), RotateZ(RotateZ { qubit: 0, theta: Str(\"(theta_even_2 * 3e0)\") }), CNOT(CNOT { control: 1, target: 0 }), Hadamard(Hadamard { qubit: 0 }), Hadamard(Hadamard { qubit: 1 }), Hadamard(Hadamard { qubit: 1 }), Hadamard(Hadamard { qubit: 2 }), CNOT(CNOT { control: 2, target: 1 }), RotateZ(RotateZ { qubit: 1, theta: Str(\"(theta_odd_2 * 3e0)\") }), CNOT(CNOT { control: 2, target: 1 }), Hadamard(Hadamard { qubit: 1 }), Hadamard(Hadamard { qubit: 2 }), Hadamard(Hadamard { qubit: 2 }), Hadamard(Hadamard { qubit: 0 }), CNOT(CNOT { control: 0, target: 2 }), RotateZ(RotateZ { qubit: 2, theta: Str(\"(theta_odd_2 * 3e0)\") }), CNOT(CNOT { control: 0, target: 2 }), Hadamard(Hadamard { qubit: 2 }), Hadamard(Hadamard { qubit: 0 }), RotateZ(RotateZ { qubit: 0, theta: Str(\"theta_z_2\") }), RotateZ(RotateZ { qubit: 1, theta: Str(\"theta_z_2\") }), RotateZ(RotateZ { qubit: 2, theta: Str(\"theta_z_2\") }), Hadamard(Hadamard { qubit: 0 }), Hadamard(Hadamard { qubit: 1 }), CNOT(CNOT { control: 1, target: 0 }), RotateZ(RotateZ { qubit: 0, theta: Str(\"(theta_even_3 * 3e0)\") }), CNOT(CNOT { control: 1, target: 0 }), Hadamard(Hadamard { qubit: 0 }), Hadamard(Hadamard { qubit: 1 }), Hadamard(Hadamard { qubit: 1 }), Hadamard(Hadamard { qubit: 2 }), CNOT(CNOT { control: 2, target: 1 }), RotateZ(RotateZ { qubit: 1, theta: Str(\"(theta_odd_3 * 3e0)\") }), CNOT(CNOT { control: 2, target: 1 }), Hadamard(Hadamard { qubit: 1 }), Hadamard(Hadamard { qubit: 2 }), Hadamard(Hadamard { qubit: 2 }), Hadamard(Hadamard { qubit: 0 }), CNOT(CNOT { control: 0, target: 2 }), RotateZ(RotateZ { qubit: 2, theta: Str(\"(theta_odd_3 * 3e0)\") }), CNOT(CNOT { control: 0, target: 2 }), Hadamard(Hadamard { qubit: 2 }), Hadamard(Hadamard { qubit: 0 }), RotateZ(RotateZ { qubit: 0, theta: Str(\"theta_z_3\") }), RotateZ(RotateZ { qubit: 1, theta: Str(\"theta_z_3\") }), RotateZ(RotateZ { qubit: 2, theta: Str(\"theta_z_3\") })] }\n"
     ]
    }
   ],
   "source": [
    "/// Function to construct a Circuit for the unitary evolution.\n",
    "///\n",
    "/// Arguments\n",
    "/// * iter_evolution: number of iterations of evolution, minimum 1.\n",
    "/// * number_qubits: number of qubits in the system\n",
    "/// * hopping_parameter: parameter 't' for the hopping term of the Hamiltonian.\n",
    "/// * magnetic_field: parameter 'B' for the magnetic term of the Hamiltonian.\n",
    "pub fn create_evolution_circuit(\n",
    "    iter_evolution: usize,\n",
    "    number_qubits: usize,\n",
    "    hopping_parameter: f64,\n",
    "    magnetic_field: f64,\n",
    ") -> Circuit {\n",
    "    let mut circuit = Circuit::new();\n",
    "\n",
    "    // here: theta_even_i, theta_odd_i and theta_z_i are symbolic parameters (free variational parameters)\n",
    "    for i in 1..iter_evolution {\n",
    "        circuit += create_even_hopping_circuit(\n",
    "            (\"theta_even_\".to_string() + &i.to_string()).into(),\n",
    "            number_qubits,\n",
    "            hopping_parameter,\n",
    "        );\n",
    "        circuit += create_odd_hopping_circuit(\n",
    "            (\"theta_odd_\".to_string() + &i.to_string()).into(),\n",
    "            number_qubits,\n",
    "            hopping_parameter,\n",
    "        );\n",
    "        circuit += create_magnetic_field_circuit(\n",
    "            (\"theta_z_\".to_string() + &i.to_string()).into(),\n",
    "            number_qubits,\n",
    "            magnetic_field,\n",
    "        );\n",
    "    }\n",
    "\n",
    "    return circuit;\n",
    "}\n",
    "\n",
    "// In order to achieve better minimization results we default to several iterations of (pseudo) time-evolution\n",
    "let iter_evoluation: usize = 4;\n",
    "// Construction the evolution circuit\n",
    "let circuit_evolution: Circuit = create_evolution_circuit(iter_evoluation, number_qubits, hopping_parameter, magnetic_field);\n",
    "\n",
    "println!(\"Step 2: Constructed evolution circuit.\");\n",
    "println!(\"{:?}\", circuit_evolution);"
   ]
  },
  {
   "cell_type": "markdown",
   "id": "typical-contract",
   "metadata": {},
   "source": [
    "### 3. Basis rotation (BR) measurement to get the expectation values\n",
    "\n",
    "We construct the basis rotation circuits for the measurement of the separate parts of the Hamiltonian.\n",
    "The magnetic field part of the Hamiltonian contains only $\\sigma^z$ operators and can be measured in the z-basis of all qubits. The hopping parts of the Hamiltonian contain only products of $\\sigma^x$ operators and can be measured in the x-basis of all qubits. For more information on the basis rotation measurement see the \"Introduction to qoqo\" example.  \n",
    "\n",
    "After constructing the measurement circuit and the measurement information we combine everything into one qoqo measurement."
   ]
  },
  {
   "cell_type": "code",
   "execution_count": 36,
   "id": "generous-voluntary",
   "metadata": {},
   "outputs": [
    {
     "name": "stdout",
     "output_type": "stream",
     "text": [
      "Step 3: Measurement circuits constructed.\n",
      "z-basis: \n",
      "DefinitionBit(DefinitionBit { name: \"ro_z\", length: 3, is_output: true })\n",
      "PragmaRepeatedMeasurement(PragmaRepeatedMeasurement { readout: \"ro_z\", number_measurements: 10000, qubit_mapping: None })\n",
      "\n",
      "x-basis: \n",
      "DefinitionBit(DefinitionBit { name: \"ro_x\", length: 3, is_output: true })\n",
      "Hadamard(Hadamard { qubit: 0 })\n",
      "Hadamard(Hadamard { qubit: 1 })\n",
      "Hadamard(Hadamard { qubit: 2 })\n",
      "PragmaRepeatedMeasurement(PragmaRepeatedMeasurement { readout: \"ro_x\", number_measurements: 10000, qubit_mapping: None })\n",
      "\n"
     ]
    }
   ],
   "source": [
    "# Setting up two basis rotation measurement circuits since we need to measure in two different bases\n",
    "x_basis_measurement_circuit = Circuit()\n",
    "z_basis_measurement_circuit = Circuit()\n",
    "\n",
    "# The qoqo operation 'DefinitionBit()' defines the classical bit registers in the circuit used to store the qubit readout\n",
    "x_basis_measurement_circuit += ops.DefinitionBit(\n",
    "    name='ro_x',  length=number_qubits, is_output=True) # parameter 'length' is the number of qubits to be measured\n",
    "z_basis_measurement_circuit += ops.DefinitionBit(\n",
    "    name='ro_z', length=number_qubits, is_output=True) # parameter 'length' is the number of qubits to be measured\n",
    "\n",
    "# Basis rotation with the Hadamard gate: Bring all qubits into z-basis\n",
    "for i in range(number_qubits):\n",
    "    x_basis_measurement_circuit += ops.Hadamard(qubit=i)\n",
    "    \n",
    "# Add measurement operation to all circuits to write the measured values into the classical registers\n",
    "z_basis_measurement_circuit += ops.PragmaRepeatedMeasurement(\n",
    "    readout='ro_z', number_measurements=number_measurements, qubit_mapping=None)\n",
    "x_basis_measurement_circuit += ops.PragmaRepeatedMeasurement(\n",
    "    readout='ro_x', number_measurements=number_measurements, qubit_mapping=None)\n",
    "\n",
    "# Setting up measurement input determining which expectation values of PauliProducts are measured from which circuit\n",
    "# and how they are combined linearly\n",
    "measurement_input = BasisRotationInput(number_qubits=number_qubits, use_flipped_measurement=False)\n",
    "# Adding the measured Pauli products\n",
    "index0 = measurement_input.add_pauli_product(readout=\"ro_z\", pauli_product_mask=[0])\n",
    "index1 = measurement_input.add_pauli_product(readout=\"ro_z\", pauli_product_mask=[1])\n",
    "index2 = measurement_input.add_pauli_product(readout=\"ro_z\", pauli_product_mask=[2])\n",
    "index3 = measurement_input.add_pauli_product(readout=\"ro_x\", pauli_product_mask=[0, 1])\n",
    "index4 = measurement_input.add_pauli_product(readout=\"ro_x\", pauli_product_mask=[1, 2])\n",
    "index5 = measurement_input.add_pauli_product(readout=\"ro_x\", pauli_product_mask=[0, 2])\n",
    "\n",
    "\n",
    "# Adding the linear combinations of Pauli products that give the expectation values\n",
    "measurement_input.add_linear_exp_val(\n",
    "    name=\"energy\",\n",
    "    linear={0:magnetic_field, 1:magnetic_field, 2:magnetic_field,\n",
    "            3:hopping_parameter, 4:hopping_parameter, 5:hopping_parameter\n",
    "           })\n",
    "\n",
    "print('Step 3: Measurement circuits constructed.')\n",
    "print('z-basis: ')\n",
    "print(z_basis_measurement_circuit)\n",
    "print('x-basis: ')\n",
    "print(x_basis_measurement_circuit)"
   ]
  },
  {
   "cell_type": "markdown",
   "id": "worth-motor",
   "metadata": {},
   "source": [
    "### 4. Combining the parts to DoUnitary\n",
    "\n",
    "To execute the optimization we combine all the constructed circuits and put them in one qoqo DoUnitary quantum programm. With DoUnitary we only need to provide the free parameters and get back the measured expectation values."
   ]
  },
  {
   "cell_type": "code",
   "execution_count": 37,
   "id": "together-index",
   "metadata": {},
   "outputs": [
    {
     "name": "stdout",
     "output_type": "stream",
     "text": [
      "Step 4: QuantumProgram constructed.\n"
     ]
    }
   ],
   "source": [
    "# Construct basis rotation measurement to get the expectation values\n",
    "measurement = BasisRotation(\n",
    "  input=measurement_input, \n",
    "  circuits=[\n",
    "    circuit_init + circuit_evolution + z_basis_measurement_circuit,\n",
    "    circuit_init + circuit_evolution + x_basis_measurement_circuit\n",
    "  ],\n",
    "  constant_circuit=None,\n",
    ")  \n",
    "\n",
    "# one needs to define a backend where the program is executed\n",
    "backend = Backend(number_qubits=number_qubits)\n",
    "# QuantumProgram takes the prepared list of circuits and the list of free parameter names (the symbolic values in the circuit)\n",
    "program = QuantumProgram(\n",
    "  measurement=measurement,\n",
    "  input_parameter_names=[\n",
    "    'theta_even_0','theta_odd_0', 'theta_z_0',\n",
    "    'theta_even_1','theta_odd_1', 'theta_z_1',\n",
    "    'theta_even_2','theta_odd_2', 'theta_z_2',\n",
    "    'theta_even_3','theta_odd_3', 'theta_z_3',\n",
    "  ]\n",
    ")\n",
    "\n",
    "print('Step 4: QuantumProgram constructed.')"
   ]
  },
  {
   "cell_type": "markdown",
   "id": "parliamentary-statistics",
   "metadata": {},
   "source": [
    "### 5. Optimization of free parameters\n",
    "Minimiization routine to optimize the free parameters. This quantum program has 12 free parameters: theta_even, theta_odd and theta_z for each of the 4 iterations of evolution."
   ]
  },
  {
   "cell_type": "code",
   "execution_count": 38,
   "id": "dedicated-plane",
   "metadata": {},
   "outputs": [
    {
     "name": "stdout",
     "output_type": "stream",
     "text": [
      "==> Optimized parameters theta:  [ 0.43508345  0.02350965  1.16949616 -0.38445064 -0.43180257  0.99078984\n",
      " -0.04818821 -0.11615002 -0.39790998 -0.01509842 -0.04126061 -0.33272809] .\n",
      "==> Calculated approximate Energy value:  -5.225199999999999 .\n"
     ]
    }
   ],
   "source": [
    "# \n",
    "def do_measurement(theta: List[float]) -> float:\n",
    "    \"\"\"A helper function wrapping DoUnitary in the form required by the scipy optimizer. \n",
    "\n",
    "    Args:\n",
    "        theta: List of optimized parameters.\n",
    "\n",
    "    Returns:\n",
    "        Cost function (energy expectation value).\n",
    "    \"\"\"\n",
    "    exp_val = program.run(backend, theta)\n",
    "    return np.real(exp_val['energy'])\n",
    "\n",
    "# standard scipy optimization routine\n",
    "final_result = so.minimize(\n",
    "    fun=do_measurement,  # function to minimize\n",
    "    x0=[0.0, 0.0, 0.0, 0.0, 0.0, 0.0, 0.0, 0.0, 0.0, 0.0, 0.0, 0.0],  # array of initial values for the free parameters theta\n",
    "    method='COBYLA',\n",
    ")\n",
    "\n",
    "print('==> Optimized parameters theta: ', final_result.x, '.')\n",
    "print('==> Calculated approximate Energy value: ', final_result.fun, '.')"
   ]
  },
  {
   "cell_type": "markdown",
   "id": "prostate-analysis",
   "metadata": {},
   "source": [
    "## PART II: Compare the calculated (approximate) result to the exact classical solution\n",
    "\n",
    "Here we present an exact solution of the sample Hamiltonian to compare the exact results to the calculated solution of the VHA method."
   ]
  },
  {
   "cell_type": "code",
   "execution_count": 39,
   "id": "exposed-generation",
   "metadata": {},
   "outputs": [
    {
     "name": "stdout",
     "output_type": "stream",
     "text": [
      "Step 4: Diagonalization of the classical Hamiltonian.\n",
      "==> Energy of the ground state:  -5.2111 .\n",
      "Difference between VHA result and exact result:  -0.0141 .\n"
     ]
    }
   ],
   "source": [
    "# fist, define Hamiltonian\n",
    "# pauli matrices\n",
    "sigmax = sp.csr_matrix([[0.0, 1.0], [1.0, 0.0]])\n",
    "sigmay = sp.csr_matrix([[0.0, 1.0j], [-1.0j, 0.0]])   # not required in this example\n",
    "sigmaz = sp.csr_matrix([[1.0, 0.0], [0.0, -1.0]])\n",
    "# identity matrix\n",
    "identity = sp.csr_matrix([[1.0, 0.0], [0.0, 1.0]])\n",
    "\n",
    "# magnetic term for 3 qubits\n",
    "H_magnetic = magnetic_field * (\n",
    "    sp.kron(sp.kron(sigmaz, identity), identity)\n",
    "    + sp.kron(sp.kron(identity, sigmaz), identity)\n",
    "    + sp.kron(sp.kron(identity, identity), sigmaz))\n",
    "# hopping term for 3 qubits\n",
    "H_hopping = hopping_parameter * (\n",
    "    sp.kron(sp.kron(sigmax, sigmax), identity)\n",
    "    + sp.kron(sp.kron(identity, sigmax), sigmax)\n",
    "    + sp.kron(sp.kron(sigmax, identity), sigmax)\n",
    ")\n",
    "# total Hamiltonian\n",
    "H = H_hopping + H_magnetic\n",
    "\n",
    "# diagonalize the Hamiltonian H, calculate eigenvalues and eigenvectors\n",
    "print('Step 4: Diagonalization of the classical Hamiltonian.')\n",
    "(eigenvalues, eigenvectors) = sp.linalg.eigsh(H, which='SA')    # sorted\n",
    "print('==> Energy of the ground state: ', \"%.4f\" % eigenvalues.real[0], '.')\n",
    "\n",
    "# final print-out\n",
    "delta = final_result.fun - eigenvalues.real[0]\n",
    "print('Difference between VHA result and exact result: ', \"%.4f\" % delta, '.')"
   ]
  }
 ],
 "metadata": {
  "kernelspec": {
   "display_name": "Rust",
   "language": "rust",
   "name": "rust"
  },
  "language_info": {
   "codemirror_mode": "rust",
   "file_extension": ".rs",
   "mimetype": "text/rust",
   "name": "Rust",
   "pygment_lexer": "rust",
   "version": ""
  },
  "metadata": {
   "interpreter": {
    "hash": "dca0ade3e726a953b501b15e8e990130d2b7799f14cfd9f4271676035ebe5511"
   }
  }
 },
 "nbformat": 4,
 "nbformat_minor": 5
}
