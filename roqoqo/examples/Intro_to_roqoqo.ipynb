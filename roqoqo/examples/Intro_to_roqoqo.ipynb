{
 "cells": [
  {
   "cell_type": "markdown",
   "id": "linear-albania",
   "metadata": {},
   "source": [
    "Quantum Operation Quantum Operation  \n",
    "Yes we use [reduplication](https://en.wikipedia.org/wiki/Reduplication)\n",
    "\n",
    "qoqo is a toolkit to represent quantum circuits by [HQS Quantum Simulations](https://quantumsimulations.de).\n",
    "\n",
    "The original qoqo repository contains two components:\n",
    "\n",
    "* roqoqo: the core rust library\n",
    "* qoqo: the python interface to roqoqo\n",
    "\n",
    "The examples provided here are written in Rust. These are the examples for **roqoqo** - the core rust library.\n",
    "\n",
    "What roqoqo/qoqo is:\n",
    "\n",
    "* A toolkit to represent quantum operations and circuits\n",
    "* A thin runtime to run quantum measurements\n",
    "* A way to serialize quantum circuits and measurement information\n",
    "* A set of optional interfaces to devices, simulators and toolkits (e.g. [qoqo_qest](https://github.com/HQSquantumsimulations/qoqo-quest), [qoqo_mock](https://github.com/HQSquantumsimulations/qoqo_mock), [qoqo_qasm](https://github.com/HQSquantumsimulations/qoqo_qasm))\n",
    "\n",
    "What roqoqo/qoqo is **not**:\n",
    "\n",
    "* A decomposer translating circuits to a specific set of gates\n",
    "* A quantum circuit optimizer\n",
    "* A collection of quantum algorithms"
   ]
  },
  {
   "cell_type": "markdown",
   "id": "amber-jungle",
   "metadata": {},
   "source": [
    "## 1. A simple circuit and measurement\n",
    "\n",
    "We show the construction of a simple entangling circuit and an observable measurement based on this circuit."
   ]
  },
  {
   "cell_type": "markdown",
   "id": "secondary-accused",
   "metadata": {},
   "source": [
    "### 1.1 Entangling circuit snippet\n",
    "Similar to many other toolkits the unitary entangling circuit can be constructed by adding operations to a circuit"
   ]
  },
  {
   "cell_type": "code",
   "execution_count": 2,
   "id": "5a458043",
   "metadata": {},
   "outputs": [
    {
     "name": "stdout",
     "output_type": "stream",
     "text": [
      "Circuit { definitions: [], operations: [Hadamard(Hadamard { qubit: 0 }), Hadamard(Hadamard { qubit: 1 }), CNOT(CNOT { control: 0, target: 1 })] }\n",
      "Circuit length:  3\n",
      "Operation types:  {\"CNOT\", \"Hadamard\"}\n"
     ]
    }
   ],
   "source": [
    ":dep roqoqo = \"0.9.0\"\n",
    "extern crate roqoqo;\n",
    "use roqoqo::{Circuit, operations::*};\n",
    "\n",
    "use std::collections::HashSet;\n",
    "\n",
    "// Create a new modifiable circuit\n",
    "let mut circuit = Circuit::new();\n",
    "// Prepare qubits 0 and 1 in a superposition state by adding the Hadamard gate\n",
    "circuit += Hadamard::new(0);\n",
    "circuit += Hadamard::new(1);\n",
    "// Establish entanglement between qubits 0 and 1\n",
    "circuit += CNOT::new(0,1);\n",
    "\n",
    "// Print\n",
    "println!(\"{:?}\", circuit);\n",
    "println!(\"{} {:?}\", \"Circuit length: \", circuit.len());\n",
    "println!(\"{} {:?}\", \"Operation types: \", circuit.get_operation_types());\n",
    "\n",
    "// For demonstrative purposes only:\n",
    "// Compare obtained operation types to those expected for this example\n",
    "let mut types: HashSet<&str> = HashSet::new();\n",
    "types.insert(\"CNOT\");\n",
    "types.insert(\"Hadamard\");\n",
    "assert_eq!(circuit.get_operation_types(), types);\n",
    "\n",
    "// Compare the derived circuit length to the expected one for this example\n",
    "assert_eq!(circuit.len(), 3);"
   ]
  },
  {
   "cell_type": "markdown",
   "id": "marine-socket",
   "metadata": {},
   "source": [
    "### 1.2 Measuring qubits\n",
    "Qoqo uses classical registers for the readout. We need to add a classical register definition to the circuit and a measurement statement.\n",
    "The number of projective measurements can be directly set in the circuit.  \n",
    "The simulation and measurement of the circuit is handled by the roqoqo_quest interface (in this example)."
   ]
  },
  {
   "cell_type": "code",
   "execution_count": 3,
   "id": "8e1f1f00",
   "metadata": {},
   "outputs": [
    {
     "name": "stdout",
     "output_type": "stream",
     "text": [
      ">> Circuit prepared for a simulated measurement:  Circuit { definitions: [DefinitionBit(DefinitionBit { name: \"ro\", length: 2, is_output: true })], operations: [Hadamard(Hadamard { qubit: 0 }), CNOT(CNOT { control: 0, target: 1 }), PragmaRepeatedMeasurement(PragmaRepeatedMeasurement { readout: \"ro\", number_measurements: 10, qubit_mapping: None })] }\n",
      ">> Bit output register 'ro' contains the following single projective measurements:\n",
      "[false, false]\n",
      "[false, false]\n",
      "[false, false]\n",
      "[false, false]\n",
      "[false, false]\n",
      "[false, false]\n",
      "[true, true]\n",
      "[false, false]\n",
      "[false, false]\n",
      "[false, false]\n"
     ]
    }
   ],
   "source": [
    ":dep roqoqo = \"0.9.0\"\n",
    ":dep roqoqo-quest = \"0.2.0\"\n",
    "\n",
    "extern crate roqoqo;\n",
    "extern crate roqoqo_quest;\n",
    "\n",
    "use roqoqo_quest::Backend;\n",
    "use roqoqo::{Circuit, operations::*, registers::*};\n",
    "use roqoqo::backends::{EvaluatingBackend, RegisterResult};\n",
    "use std::collections::HashMap;\n",
    "\n",
    "// Create new modifiable circuit\n",
    "let mut circuit = Circuit::new();\n",
    "// Define classical bit register for the readout of the measurement\n",
    "let register_name: String = \"ro\".to_string();\n",
    "circuit += DefinitionBit::new(register_name.clone(), 2, true);\n",
    "// Add operations to the circuit\n",
    "circuit += Hadamard::new(0);\n",
    "circuit += CNOT::new(0,1);\n",
    "// Add operation to the circuit to perform repeated measurements in a quantum computing simulation.\n",
    "circuit += PragmaRepeatedMeasurement::new(register_name.clone(), 10, None);\n",
    "println!(\"{} {:?}\", \">> Circuit prepared for a simulated measurement: \", circuit);\n",
    "\n",
    "let backend = Backend::new(2);\n",
    "let result: RegisterResult = backend.run_circuit(&circuit);\n",
    "let result_registers: (\n",
    "    HashMap<String, BitOutputRegister>,\n",
    "    HashMap<String, FloatOutputRegister>,\n",
    "    HashMap<String, ComplexOutputRegister>,\n",
    ") = result.unwrap();\n",
    "\n",
    "println!(\">> Bit output register 'ro' contains the following single projective measurements:\");\n",
    "for single_projective_measurements in &result_registers.0[\"ro\"] {\n",
    "    println!(\"{:?}\", single_projective_measurements);\n",
    "};"
   ]
  },
  {
   "cell_type": "markdown",
   "id": "interesting-screw",
   "metadata": {},
   "source": [
    "### 1.3 Measuring Observables\n",
    "Qoqo includes the direct evaluation of projective measurements to an observable measurement e.g. 3 * < Z0 > + < Z0 Z1 >.\n",
    "The measurement is defined by a set of expectation values of a product of pauli operators and a matrix that combines the expectation values."
   ]
  },
  {
   "cell_type": "code",
   "execution_count": 4,
   "id": "9c6fee58",
   "metadata": {},
   "outputs": [
    {
     "name": "stdout",
     "output_type": "stream",
     "text": [
      "Measurement input defined:  BasisRotationInput { pauli_product_qubit_masks: {\"ro\": {1: [0, 1], 0: [0]}}, number_qubits: 2, number_pauli_products: 2, measured_exp_vals: {\"example\": Linear({1: 0.0, 0: 1.0})}, use_flipped_measurement: false }\n",
      "Result of Quantum Program:  -1.0\n"
     ]
    }
   ],
   "source": [
    ":dep roqoqo = \"0.9.0\"\n",
    ":dep roqoqo-quest = \"0.2.0\"\n",
    "\n",
    "extern crate roqoqo;\n",
    "extern crate roqoqo_quest;\n",
    "\n",
    "use roqoqo_quest::Backend;\n",
    "use roqoqo::{Circuit, operations::*, registers::*, QuantumProgram};\n",
    "use roqoqo::measurements::{BasisRotationInput, BasisRotation}\n",
    "\n",
    "use std::collections::HashMap;\n",
    "\n",
    "let mut circuit = Circuit::new();\n",
    "circuit.add_operation(DefinitionBit::new(\"ro\".to_string(), 2, true));\n",
    "circuit.add_operation(PauliX::new(0));\n",
    "circuit.add_operation(CNOT::new(0,1));\n",
    "circuit.add_operation(PragmaRepeatedMeasurement::new(\"ro\".to_string(), 10, None));\n",
    "\n",
    "let mut measurement_input = BasisRotationInput::new(2, false);\n",
    "// From readout 'ro' measure two pauli products 0: < Z0 > and 1: < Z0 Z1 >\n",
    "measurement_input.add_pauli_product(\"ro\".to_string(), vec![0]);\n",
    "measurement_input.add_pauli_product(\"ro\".to_string(), vec![0, 1]);\n",
    "// One expectation value: 1 * pauli_product0 + 0 * pauli_product1\n",
    "measurement_input.add_linear_exp_val(\"example\".to_string(), HashMap::from([(0, 1.0), (1, 0.0)]));\n",
    "println!(\"{} {:?}\", \"Measurement input defined: \", measurement_input);\n",
    "\n",
    "let measurement = BasisRotation {\n",
    "    input: measurement_input,\n",
    "    circuits: vec![circuit.clone()],\n",
    "    constant_circuit: None,\n",
    "};\n",
    "let backend = Backend::new(2);\n",
    "let program = QuantumProgram::BasisRotation {\n",
    "    measurement: measurement,\n",
    "    input_parameter_names: vec![],\n",
    "};\n",
    "\n",
    "// Measurement result\n",
    "let result = program.run(backend, &[]).unwrap().unwrap()[\"example\"];\n",
    "println!(\"{} {:?}\", \"Result of Quantum Program: \", result);\n",
    "\n",
    "// Validation check\n",
    "assert!(result > - 4.0 * 10.0);\n",
    "assert!(result < 4.0 * 10.0);\n"
   ]
  },
  {
   "cell_type": "markdown",
   "id": "typical-contract",
   "metadata": {},
   "source": [
    "### 1.4 De/Serializing the quantum program\n",
    "\n",
    "Same procedure as introduced in the example 1.3 \"Measurement observables\", but now the measurement is serialized to and de-serialized from json."
   ]
  },
  {
   "cell_type": "code",
   "execution_count": 5,
   "id": "c47154ca",
   "metadata": {},
   "outputs": [
    {
     "name": "stdout",
     "output_type": "stream",
     "text": [
      "Measurement input defined:  BasisRotationInput { pauli_product_qubit_masks: {\"ro\": {1: [0, 1], 0: [0]}}, number_qubits: 2, number_pauli_products: 2, measured_exp_vals: {\"example\": Linear({0: 3.0, 1: 1.0})}, use_flipped_measurement: false }\n"
     ]
    }
   ],
   "source": [
    ":dep roqoqo = \"0.9.0\"\n",
    ":dep roqoqo-quest = \"0.2.0\"\n",
    "\n",
    "extern crate roqoqo;\n",
    "extern crate roqoqo_quest;\n",
    "\n",
    "use roqoqo::{Circuit, operations::*, registers::*, QuantumProgram};\n",
    "use roqoqo::measurements::{BasisRotationInput, BasisRotation}\n",
    "\n",
    "use std::collections::HashMap;\n",
    "\n",
    "let mut circuit = Circuit::new();\n",
    "circuit.add_operation(DefinitionBit::new(\"ro\".to_string(), 2, true));\n",
    "circuit.add_operation(PauliX::new(0));\n",
    "circuit.add_operation(CNOT::new(0,1));\n",
    "circuit.add_operation(PragmaRepeatedMeasurement::new(\"ro\".to_string(), 10, None));\n",
    "\n",
    "let mut measurement_input = BasisRotationInput::new(2, false);\n",
    "// From readout 'ro' measure two pauli products 0: < Z0 > and 1: < Z0 Z1 >\n",
    "measurement_input.add_pauli_product(\"ro\".to_string(), vec![0]);\n",
    "measurement_input.add_pauli_product(\"ro\".to_string(), vec![0, 1]);\n",
    "// One expectation value: 3 * pauli_product0 + 1 * pauli_product1\n",
    "measurement_input.add_linear_exp_val(\"example\".to_string(), HashMap::from([(0, 3.0), (1, 1.0)]));\n",
    "println!(\"{} {:?}\", \"Measurement input defined: \", measurement_input);\n",
    "\n",
    "let measurement = BasisRotation {\n",
    "    input: measurement_input,\n",
    "    circuits: vec![circuit.clone()],\n",
    "    constant_circuit: None,\n",
    "};\n",
    "\n",
    "// Is \"to_json\" and \"from_json\" not available for BasisRotation in roqoqo? Is that on purpose?\n",
    "// let measurement_json = measurement.to_json();\n",
    "// let measurement_new = BasisRotation.from_json(measurement_json);\n",
    "\n"
   ]
  },
  {
   "cell_type": "markdown",
   "id": "parliamentary-statistics",
   "metadata": {},
   "source": [
    "## 2. Fine control over decoherence\n",
    "Qoqo allows full control over decoherence by placing decoherence operations in the circuit on the same level as gates.  \n",
    "Example: Letting only one qubit decay.  \n",
    "The backend automatically switches from statevector simulation to density matrix simulation in the presence of noise."
   ]
  },
  {
   "cell_type": "code",
   "execution_count": 15,
   "id": "e9c0a647",
   "metadata": {},
   "outputs": [
    {
     "name": "stdout",
     "output_type": "stream",
     "text": [
      "Circuit { definitions: [DefinitionFloat(DefinitionFloat { name: \"rof\", length: 2, is_output: true })], operations: [PauliX(PauliX { qubit: 0 }), PauliX(PauliX { qubit: 1 }), PragmaDamping(PragmaDamping { qubit: 0, gate_time: Float(1.0), rate: Float(0.1) }), PragmaRepeatedMeasurement(PragmaRepeatedMeasurement { readout: \"rof\", number_measurements: 100, qubit_mapping: None })] }\n"
     ]
    }
   ],
   "source": [
    ":dep roqoqo = \"0.9.0\"\n",
    ":dep roqoqo-quest = \"0.2.0\"\n",
    "\n",
    "extern crate roqoqo;\n",
    "extern crate roqoqo_quest;\n",
    "\n",
    "use roqoqo_quest::Backend;\n",
    "use roqoqo::{Circuit, operations::*, registers::*};\n",
    "use roqoqo::backends::{EvaluatingBackend, RegisterResult};\n",
    "use std::collections::HashMap;\n",
    "\n",
    "let damping = 0.1;\n",
    "let number_measurements = 100;\n",
    "let mut circuit = Circuit::new();\n",
    "circuit += DefinitionFloat::new(\"rof\".to_string(), 2, true);\n",
    "circuit += PauliX::new(0);\n",
    "circuit += PauliX::new(1);\n",
    "circuit += PragmaDamping::new(0, 1.into(), damping.into());\n",
    "circuit += PragmaRepeatedMeasurement::new(\"rof\".to_string(), number_measurements, None);\n",
    "println!(\"{:?}\", circuit); // debugging\n",
    "\n",
    "// // EXAMPLE NOT WORKING WITH DEFINITIONFLOAT: Err msg: `Trying to write readout to non-existent register rof`\n",
    "// let backend = Backend::new(2);\n",
    "// let result: RegisterResult = backend.run_circuit(&circuit);\n",
    "// println!(\"{:?}\", result); // debugging\n",
    "// let result_registers: (\n",
    "//     HashMap<String, BitOutputRegister>,\n",
    "//     HashMap<String, FloatOutputRegister>,\n",
    "//     HashMap<String, ComplexOutputRegister>,\n",
    "// ) = result.unwrap();\n",
    "\n",
    "// println!(\"{:?}\", result_registers); // debugging\n",
    "\n",
    "// let mut sum_test = [0.0, 0.0];\n",
    "// for single_projective_measurement in &result_registers.1[\"rof\"] {\n",
    "//     sum_test[0] += single_projective_measurement[0];\n",
    "//     sum_test[1] += single_projective_measurement[1];\n",
    "// };\n",
    "// let scaled_result = (sum_test[0] + sum_test[1]) / number_measurements as f64;\n",
    "// println!(\"{} {:?}\", \">>Scaled result: \", scaled_result);\n",
    "\n",
    "// assert_eq!(scaled_result, 2.0);"
   ]
  },
  {
   "cell_type": "markdown",
   "id": "prostate-analysis",
   "metadata": {},
   "source": [
    "## 3. Symbolic parameters\n",
    "In many cases, operation parameters depend on a symbolic parameter of the whole quantum program (time in time-evolution, overrotation, variational parameters...)  \n",
    "Qoqo allows the fast calculation of symbolic parameter expressions.  \n",
    "Expressions are provided in string form.  \n",
    "DoUnitary can automatically replace symbolic parameters using call parameters."
   ]
  },
  {
   "cell_type": "markdown",
   "id": "cross-forest",
   "metadata": {},
   "source": [
    "### 3.1 Writing the symbolic circuit and replacing symbolic parameters"
   ]
  },
  {
   "cell_type": "code",
   "execution_count": null,
   "id": "21384550",
   "metadata": {},
   "outputs": [],
   "source": []
  },
  {
   "cell_type": "markdown",
   "id": "talented-operations",
   "metadata": {},
   "source": [
    "### 3.2 Symbolic parameters in a full quantum program"
   ]
  },
  {
   "cell_type": "code",
   "execution_count": null,
   "id": "d1b56c83",
   "metadata": {},
   "outputs": [],
   "source": []
  },
  {
   "cell_type": "markdown",
   "id": "ready-benjamin",
   "metadata": {},
   "source": [
    "## 4. Testing scaling performance with qoqo_mock\n",
    "Quantum simulators cannot simulate systems with a significant number of qubits fast enough to benchmark qoqo with a large number of qubits and operations.\n",
    "The qoqo_mock interface can be used to benchmark qoqo without simulating a quantum computer."
   ]
  },
  {
   "cell_type": "code",
   "execution_count": null,
   "id": "754ab354",
   "metadata": {},
   "outputs": [],
   "source": []
  }
 ],
 "metadata": {
  "kernelspec": {
   "display_name": "Rust",
   "language": "rust",
   "name": "rust"
  },
  "language_info": {
   "codemirror_mode": "rust",
   "file_extension": ".rs",
   "mimetype": "text/rust",
   "name": "Rust",
   "pygment_lexer": "rust",
   "version": ""
  }
 },
 "nbformat": 4,
 "nbformat_minor": 5
}
