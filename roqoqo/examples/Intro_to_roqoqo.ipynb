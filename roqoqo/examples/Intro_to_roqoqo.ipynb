{
 "cells": [
  {
   "cell_type": "markdown",
   "id": "linear-albania",
   "metadata": {},
   "source": [
    "# Introduction to Qoqo\n",
    "Quantum Operation Quantum Operation  \n",
    "Yes, we use [reduplication](https://en.wikipedia.org/wiki/Reduplication)\n",
    "\n",
    "What Qoqo is\n",
    "* A toolkit to represent quantum operations and circuits\n",
    "* A thin runtime to run quantum measurements\n",
    "* A way to serialize quantum circuits and measurement information\n",
    "* A set of optional interfaces to devices, simulators and toolkits\n",
    "\n",
    "What Qoqo is not\n",
    "* A decomposer translating circuits to a specific set of gates\n",
    "* A quantum circuit optimizer\n",
    "* A collection of quantum algorithms\n"
   ]
  },
  {
   "cell_type": "markdown",
   "id": "amber-jungle",
   "metadata": {},
   "source": [
    "## A simple circuit and measurement\n",
    "\n",
    "We show the construction of a simple entangling circuit and an observable measurement based on this circuit"
   ]
  },
  {
   "cell_type": "markdown",
   "id": "secondary-accused",
   "metadata": {},
   "source": [
    "### Entangling circuit snippet\n",
    "Similar to many other toolkits the unitary entangling circuit can be constructed by adding operations to a circuit"
   ]
  },
  {
   "cell_type": "code",
   "execution_count": 3,
   "id": "5a458043",
   "metadata": {},
   "outputs": [
    {
     "data": {
      "text/plain": [
       "\"Hello, World!\""
      ]
     },
     "execution_count": 3,
     "metadata": {},
     "output_type": "execute_result"
    }
   ],
   "source": [
    "let mut s = String::from(\"Hello, \");\n",
    "s.push_str(\"World!\");\n",
    "s"
   ]
  },
  {
   "cell_type": "code",
   "execution_count": 6,
   "id": "012b3011",
   "metadata": {},
   "outputs": [
    {
     "data": {
      "text/plain": [
       "Ok(2)"
      ]
     },
     "execution_count": 6,
     "metadata": {},
     "output_type": "execute_result"
    }
   ],
   "source": [
    ":dep chemcore = \"0.2.1\"\n",
    ":dep gamma = \"0.6.1\"\n",
    "extern crate chemcore;\n",
    "use chemcore::molecule::Molecule;\n",
    "use gamma::graph::Graph;\n",
    "let m = chemcore::daylight::read(&\"[13c]1ccccc1\").unwrap();\n",
    "m.degree(0)"
   ]
  },
  {
   "cell_type": "code",
   "execution_count": 7,
   "id": "c28c6c89",
   "metadata": {},
   "outputs": [
    {
     "data": {
      "text/plain": [
       "Ok([5, 1])"
      ]
     },
     "execution_count": 7,
     "metadata": {},
     "output_type": "execute_result"
    }
   ],
   "source": [
    "m.neighbors(0)"
   ]
  },
  {
   "cell_type": "code",
   "execution_count": 8,
   "id": "1f72e8f2",
   "metadata": {},
   "outputs": [
    {
     "data": {
      "text/plain": [
       "[(0, 5), (0, 1), (1, 2), (2, 3), (3, 4), (4, 5)]"
      ]
     },
     "execution_count": 8,
     "metadata": {},
     "output_type": "execute_result"
    }
   ],
   "source": [
    "m.edges()"
   ]
  },
  {
   "cell_type": "markdown",
   "id": "marine-socket",
   "metadata": {},
   "source": [
    "### Measuring qubits\n",
    "Qoqo uses classical registers for the readout. We need to add a classical register definition to the circuit and a measurement statement.\n",
    "The number of projective measurements can be directly set in the circuit.  \n",
    "The simulation and measurement of the circuit is handled by the qoqo_quest interface (in this example)."
   ]
  },
  {
   "cell_type": "code",
   "execution_count": null,
   "id": "8e1f1f00",
   "metadata": {},
   "outputs": [],
   "source": []
  },
  {
   "cell_type": "markdown",
   "id": "interesting-screw",
   "metadata": {},
   "source": [
    "### Measuring Observables\n",
    "Qoqo includes the direct evaluation of projective measurements to an observable measurement e.g. 3 * < Z0 > + < Z0 Z1 >  \n",
    "The measurement is defined by a set of expectation values of a product of pauli operators and a matrix that combines the expectation values  "
   ]
  },
  {
   "cell_type": "code",
   "execution_count": null,
   "id": "9c6fee58",
   "metadata": {},
   "outputs": [],
   "source": []
  },
  {
   "cell_type": "markdown",
   "id": "typical-contract",
   "metadata": {},
   "source": [
    "### De/Serializing the quantum program"
   ]
  },
  {
   "cell_type": "code",
   "execution_count": null,
   "id": "c47154ca",
   "metadata": {},
   "outputs": [],
   "source": []
  },
  {
   "cell_type": "markdown",
   "id": "parliamentary-statistics",
   "metadata": {},
   "source": [
    "## Fine control over decoherence\n",
    "Qoqo allows full control over decoherence by placing decoherence operations in the circuit on the same level as gates.  \n",
    "Example: Letting only one qubit decay.  \n",
    "The backend automatically switches from statevector simulation to density matrix simulation in the presence of noise."
   ]
  },
  {
   "cell_type": "code",
   "execution_count": null,
   "id": "e9c0a647",
   "metadata": {},
   "outputs": [],
   "source": []
  },
  {
   "cell_type": "markdown",
   "id": "prostate-analysis",
   "metadata": {},
   "source": [
    "## Symbolic parameters\n",
    "In many cases, operation parameters depend on a symbolic parameter of the whole quantum program (time in time-evolution, overrotation, variational parameters...)  \n",
    "Qoqo allows the fast calculation of symbolic parameter expressions.  \n",
    "Expressions are provided in string form.  \n",
    "DoUnitary can automatically replace symbolic parameters using call parameters."
   ]
  },
  {
   "cell_type": "markdown",
   "id": "cross-forest",
   "metadata": {},
   "source": [
    "### Writing the symbolic circuit and replacing symbolic parameters"
   ]
  },
  {
   "cell_type": "code",
   "execution_count": null,
   "id": "21384550",
   "metadata": {},
   "outputs": [],
   "source": []
  },
  {
   "cell_type": "markdown",
   "id": "talented-operations",
   "metadata": {},
   "source": [
    "### Symbolic parameters in a full quantum program"
   ]
  },
  {
   "cell_type": "code",
   "execution_count": null,
   "id": "d1b56c83",
   "metadata": {},
   "outputs": [],
   "source": []
  },
  {
   "cell_type": "markdown",
   "id": "ready-benjamin",
   "metadata": {},
   "source": [
    "## Testing scaling performance with qoqo_mock\n",
    "Quantum simulators cannot simulate systems with a significant number of qubits fast enough to benchmark qoqo with a large number of qubits and operations.\n",
    "The qoqo_mock interface can be used to benchmark qoqo without simulating a quantum computer."
   ]
  },
  {
   "cell_type": "code",
   "execution_count": null,
   "id": "754ab354",
   "metadata": {},
   "outputs": [],
   "source": []
  }
 ],
 "metadata": {
  "kernelspec": {
   "display_name": "Rust",
   "language": "rust",
   "name": "rust"
  },
  "language_info": {
   "codemirror_mode": "rust",
   "file_extension": ".rs",
   "mimetype": "text/rust",
   "name": "Rust",
   "pygment_lexer": "rust",
   "version": ""
  }
 },
 "nbformat": 4,
 "nbformat_minor": 5
}
