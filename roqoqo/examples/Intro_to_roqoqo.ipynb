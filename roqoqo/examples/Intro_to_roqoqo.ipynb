{
 "cells": [
  {
   "cell_type": "markdown",
   "id": "linear-albania",
   "metadata": {},
   "source": [
    "Quantum Operation Quantum Operation  \n",
    "Yes we use [reduplication](https://en.wikipedia.org/wiki/Reduplication)\n",
    "\n",
    "qoqo is a toolkit to represent quantum circuits by [HQS Quantum Simulations](https://quantumsimulations.de).\n",
    "\n",
    "The original qoqo repository contains two components:\n",
    "\n",
    "* roqoqo: the core rust library\n",
    "* qoqo: the python interface to roqoqo\n",
    "\n",
    "The examples provided here are written in Rust. These are the examples for **roqoqo** - the core rust library.\n",
    "\n",
    "What roqoqo/qoqo is:\n",
    "\n",
    "* A toolkit to represent quantum operations and circuits\n",
    "* A thin runtime to run quantum measurements\n",
    "* A way to serialize quantum circuits and measurement information\n",
    "* A set of optional interfaces to devices, simulators and toolkits (e.g. [qoqo_qest](https://github.com/HQSquantumsimulations/qoqo-quest), [qoqo_mock](https://github.com/HQSquantumsimulations/qoqo_mock), [qoqo_qasm](https://github.com/HQSquantumsimulations/qoqo_qasm))\n",
    "\n",
    "What roqoqo/qoqo is **not**:\n",
    "\n",
    "* A decomposer translating circuits to a specific set of gates\n",
    "* A quantum circuit optimizer\n",
    "* A collection of quantum algorithms"
   ]
  },
  {
   "cell_type": "markdown",
   "id": "amber-jungle",
   "metadata": {},
   "source": [
    "## 1. A simple circuit and measurement\n",
    "\n",
    "We show the construction of a simple entangling circuit and an observable measurement based on this circuit."
   ]
  },
  {
   "cell_type": "markdown",
   "id": "secondary-accused",
   "metadata": {},
   "source": [
    "### 1.1 Entangling circuit snippet\n",
    "Similar to many other toolkits the unitary entangling circuit can be constructed by adding operations to a circuit"
   ]
  },
  {
   "cell_type": "code",
   "execution_count": 98,
   "id": "5a458043",
   "metadata": {},
   "outputs": [
    {
     "name": "stdout",
     "output_type": "stream",
     "text": [
      "Circuit { definitions: [], operations: [Hadamard(Hadamard { qubit: 0 }), Hadamard(Hadamard { qubit: 1 }), CNOT(CNOT { control: 0, target: 1 })] }\n",
      "Circuit length:  3\n",
      "Operation types:  {\"Hadamard\", \"CNOT\"}\n"
     ]
    }
   ],
   "source": [
    ":dep roqoqo = \"0.9.0\"\n",
    "extern crate roqoqo;\n",
    "use roqoqo::{Circuit, operations::*};\n",
    "\n",
    "// Create a new modifiable circuit\n",
    "let mut circuit = Circuit::new();\n",
    "// Prepare qubits 0 and 1 in a superposition state by adding the Hadamard gate\n",
    "circuit += Hadamard::new(0);\n",
    "circuit += Hadamard::new(1);\n",
    "// Establish entanglement between qubits 0 and 1\n",
    "circuit += CNOT::new(0,1);\n",
    "\n",
    "// Print\n",
    "println!(\"{:?}\", circuit);\n",
    "println!(\"{} {:?}\", \"Circuit length: \", circuit.len());\n",
    "println!(\"{} {:?}\", \"Operation types: \", circuit.get_operation_types());"
   ]
  },
  {
   "cell_type": "code",
   "execution_count": 97,
   "id": "0e7770fc",
   "metadata": {},
   "outputs": [],
   "source": [
    "use std::collections::HashSet;\n",
    "\n",
    "// Compare obtained operation types to those expected for this example\n",
    "let mut types: HashSet<&str> = HashSet::new();\n",
    "types.insert(\"CNOT\");\n",
    "types.insert(\"Hadamard\");\n",
    "assert_eq!(circuit.get_operation_types(), types);\n",
    "\n",
    "// Compare the derived circuit length to the expected one for this example\n",
    "assert_eq!(circuit.len(), 3);"
   ]
  },
  {
   "cell_type": "markdown",
   "id": "marine-socket",
   "metadata": {},
   "source": [
    "### 1.2 Measuring qubits\n",
    "Qoqo uses classical registers for the readout. We need to add a classical register definition to the circuit and a measurement statement.\n",
    "The number of projective measurements can be directly set in the circuit.  \n",
    "The simulation and measurement of the circuit is handled by the qoqo_quest interface (in this example)."
   ]
  },
  {
   "cell_type": "code",
   "execution_count": null,
   "id": "8e1f1f00",
   "metadata": {},
   "outputs": [],
   "source": []
  },
  {
   "cell_type": "markdown",
   "id": "interesting-screw",
   "metadata": {},
   "source": [
    "### 1.3 Measuring Observables\n",
    "Qoqo includes the direct evaluation of projective measurements to an observable measurement e.g. 3 * < Z0 > + < Z0 Z1 >  \n",
    "The measurement is defined by a set of expectation values of a product of pauli operators and a matrix that combines the expectation values  "
   ]
  },
  {
   "cell_type": "code",
   "execution_count": null,
   "id": "9c6fee58",
   "metadata": {},
   "outputs": [],
   "source": []
  },
  {
   "cell_type": "markdown",
   "id": "typical-contract",
   "metadata": {},
   "source": [
    "### De/Serializing the quantum program"
   ]
  },
  {
   "cell_type": "code",
   "execution_count": null,
   "id": "c47154ca",
   "metadata": {},
   "outputs": [],
   "source": []
  },
  {
   "cell_type": "markdown",
   "id": "parliamentary-statistics",
   "metadata": {},
   "source": [
    "## Fine control over decoherence\n",
    "Qoqo allows full control over decoherence by placing decoherence operations in the circuit on the same level as gates.  \n",
    "Example: Letting only one qubit decay.  \n",
    "The backend automatically switches from statevector simulation to density matrix simulation in the presence of noise."
   ]
  },
  {
   "cell_type": "code",
   "execution_count": null,
   "id": "e9c0a647",
   "metadata": {},
   "outputs": [],
   "source": []
  },
  {
   "cell_type": "markdown",
   "id": "prostate-analysis",
   "metadata": {},
   "source": [
    "## Symbolic parameters\n",
    "In many cases, operation parameters depend on a symbolic parameter of the whole quantum program (time in time-evolution, overrotation, variational parameters...)  \n",
    "Qoqo allows the fast calculation of symbolic parameter expressions.  \n",
    "Expressions are provided in string form.  \n",
    "DoUnitary can automatically replace symbolic parameters using call parameters."
   ]
  },
  {
   "cell_type": "markdown",
   "id": "cross-forest",
   "metadata": {},
   "source": [
    "### Writing the symbolic circuit and replacing symbolic parameters"
   ]
  },
  {
   "cell_type": "code",
   "execution_count": null,
   "id": "21384550",
   "metadata": {},
   "outputs": [],
   "source": []
  },
  {
   "cell_type": "markdown",
   "id": "talented-operations",
   "metadata": {},
   "source": [
    "### Symbolic parameters in a full quantum program"
   ]
  },
  {
   "cell_type": "code",
   "execution_count": null,
   "id": "d1b56c83",
   "metadata": {},
   "outputs": [],
   "source": []
  },
  {
   "cell_type": "markdown",
   "id": "ready-benjamin",
   "metadata": {},
   "source": [
    "## Testing scaling performance with qoqo_mock\n",
    "Quantum simulators cannot simulate systems with a significant number of qubits fast enough to benchmark qoqo with a large number of qubits and operations.\n",
    "The qoqo_mock interface can be used to benchmark qoqo without simulating a quantum computer."
   ]
  },
  {
   "cell_type": "code",
   "execution_count": null,
   "id": "754ab354",
   "metadata": {},
   "outputs": [],
   "source": []
  }
 ],
 "metadata": {
  "kernelspec": {
   "display_name": "Rust",
   "language": "rust",
   "name": "rust"
  },
  "language_info": {
   "codemirror_mode": "rust",
   "file_extension": ".rs",
   "mimetype": "text/rust",
   "name": "Rust",
   "pygment_lexer": "rust",
   "version": ""
  }
 },
 "nbformat": 4,
 "nbformat_minor": 5
}
