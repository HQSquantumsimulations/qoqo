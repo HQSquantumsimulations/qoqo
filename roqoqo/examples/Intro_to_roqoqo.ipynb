{
 "cells": [
  {
   "cell_type": "markdown",
   "id": "linear-albania",
   "metadata": {},
   "source": [
    "Quantum Operation Quantum Operation  \n",
    "Yes we use [reduplication](https://en.wikipedia.org/wiki/Reduplication)\n",
    "\n",
    "qoqo is a toolkit to represent quantum circuits by [HQS Quantum Simulations](https://quantumsimulations.de).\n",
    "\n",
    "The original qoqo repository contains two components:\n",
    "\n",
    "* roqoqo: the core rust library\n",
    "* qoqo: the python interface to roqoqo\n",
    "\n",
    "The examples provided here are written in Rust. These are the examples for **roqoqo** - the core rust library.\n",
    "\n",
    "What roqoqo/qoqo is:\n",
    "\n",
    "* A toolkit to represent quantum operations and circuits\n",
    "* A thin runtime to run quantum measurements\n",
    "* A way to serialize quantum circuits and measurement information\n",
    "* A set of optional interfaces to devices, simulators and toolkits (e.g. [qoqo_qest](https://github.com/HQSquantumsimulations/qoqo-quest), [qoqo_mock](https://github.com/HQSquantumsimulations/qoqo_mock), [qoqo_qasm](https://github.com/HQSquantumsimulations/qoqo_qasm))\n",
    "\n",
    "What roqoqo/qoqo is **not**:\n",
    "\n",
    "* A decomposer translating circuits to a specific set of gates\n",
    "* A quantum circuit optimizer\n",
    "* A collection of quantum algorithms"
   ]
  },
  {
   "cell_type": "markdown",
   "id": "amber-jungle",
   "metadata": {},
   "source": [
    "## 1. A simple circuit and measurement\n",
    "\n",
    "We show the construction of a simple entangling circuit and an observable measurement based on this circuit."
   ]
  },
  {
   "cell_type": "markdown",
   "id": "secondary-accused",
   "metadata": {},
   "source": [
    "### 1.1 Entangling circuit snippet\n",
    "Similar to many other toolkits the unitary entangling circuit can be constructed by adding operations to a circuit"
   ]
  },
  {
   "cell_type": "code",
   "execution_count": 3,
   "id": "5a458043",
   "metadata": {},
   "outputs": [
    {
     "name": "stdout",
     "output_type": "stream",
     "text": [
      "Circuit { definitions: [], operations: [Hadamard(Hadamard { qubit: 0 }), Hadamard(Hadamard { qubit: 1 }), CNOT(CNOT { control: 0, target: 1 })], _roqoqo_version: RoqoqoVersion }\n",
      "Circuit length:  3\n",
      "Operation types:  {\"CNOT\", \"Hadamard\"}\n"
     ]
    }
   ],
   "source": [
    ":dep roqoqo = \"0.10.0\"\n",
    "extern crate roqoqo;\n",
    "use roqoqo::{Circuit, operations::*};\n",
    "use std::collections::HashSet;\n",
    "\n",
    "// Create a new modifiable circuit\n",
    "let mut circuit = Circuit::new();\n",
    "// Prepare qubits 0 and 1 in a superposition state by adding the Hadamard gate\n",
    "circuit += Hadamard::new(0);\n",
    "circuit += Hadamard::new(1);\n",
    "// Establish entanglement between qubits 0 and 1\n",
    "circuit += CNOT::new(0,1);\n",
    "\n",
    "// Print\n",
    "println!(\"{:?}\", circuit);\n",
    "println!(\"{} {:?}\", \"Circuit length: \", circuit.len());\n",
    "println!(\"{} {:?}\", \"Operation types: \", circuit.get_operation_types());\n",
    "\n",
    "// For demonstrative purposes only:\n",
    "// Compare obtained operation types to those expected for this example\n",
    "let mut types: HashSet<&str> = HashSet::new();\n",
    "types.insert(\"CNOT\");\n",
    "types.insert(\"Hadamard\");\n",
    "assert_eq!(circuit.get_operation_types(), types);\n",
    "\n",
    "// Compare the derived circuit length to the expected one for this example\n",
    "assert_eq!(circuit.len(), 3);"
   ]
  },
  {
   "cell_type": "markdown",
   "id": "marine-socket",
   "metadata": {},
   "source": [
    "### 1.2 Measuring qubits\n",
    "Qoqo uses classical registers for the readout. We need to add a classical register definition to the circuit and a measurement statement.\n",
    "The number of projective measurements can be directly set in the circuit.  \n",
    "The simulation and measurement of the circuit is handled by the roqoqo_quest interface (in this example)."
   ]
  },
  {
   "cell_type": "code",
   "execution_count": 4,
   "id": "8e1f1f00",
   "metadata": {},
   "outputs": [
    {
     "name": "stdout",
     "output_type": "stream",
     "text": [
      ">> Circuit prepared for a simulated measurement:  Circuit { definitions: [DefinitionBit(DefinitionBit { name: \"ro\", length: 2, is_output: true })], operations: [Hadamard(Hadamard { qubit: 0 }), CNOT(CNOT { control: 0, target: 1 }), PragmaRepeatedMeasurement(PragmaRepeatedMeasurement { readout: \"ro\", number_measurements: 10, qubit_mapping: None })], _roqoqo_version: RoqoqoVersion }\n",
      ">> Bit output register 'ro' contains the following single projective measurements:\n",
      "[false, false]\n",
      "[false, false]\n",
      "[true, true]\n",
      "[false, false]\n",
      "[false, false]\n",
      "[true, true]\n",
      "[true, true]\n",
      "[false, false]\n",
      "[false, false]\n",
      "[true, true]\n"
     ]
    }
   ],
   "source": [
    ":dep roqoqo = \"0.10.0\"\n",
    ":dep roqoqo-quest = \"0.3.0\"\n",
    "\n",
    "extern crate roqoqo;\n",
    "extern crate roqoqo_quest;\n",
    "use roqoqo_quest::Backend;\n",
    "use roqoqo::{Circuit, operations::*, registers::*};\n",
    "use roqoqo::backends::{EvaluatingBackend, RegisterResult};\n",
    "use std::collections::HashMap;\n",
    "\n",
    "// Create new modifiable circuit\n",
    "let mut circuit = Circuit::new();\n",
    "// Define classical bit register for the readout of the measurement\n",
    "let register_name: String = \"ro\".to_string();\n",
    "circuit += DefinitionBit::new(register_name.clone(), 2, true);\n",
    "// Add operations to the circuit\n",
    "circuit += Hadamard::new(0);\n",
    "circuit += CNOT::new(0,1);\n",
    "// Add operation to the circuit to perform repeated measurements in a quantum computing simulation.\n",
    "circuit += PragmaRepeatedMeasurement::new(register_name.clone(), 10, None);\n",
    "println!(\"{} {:?}\", \">> Circuit prepared for a simulated measurement: \", circuit);\n",
    "\n",
    "let backend = Backend::new(2);\n",
    "let result: RegisterResult = backend.run_circuit(&circuit);\n",
    "let result_registers: (\n",
    "    HashMap<String, BitOutputRegister>,\n",
    "    HashMap<String, FloatOutputRegister>,\n",
    "    HashMap<String, ComplexOutputRegister>,\n",
    ") = result.unwrap();\n",
    "\n",
    "println!(\">> Bit output register 'ro' contains the following single projective measurements:\");\n",
    "for single_projective_measurements in &result_registers.0[\"ro\"] {\n",
    "    println!(\"{:?}\", single_projective_measurements);\n",
    "};"
   ]
  },
  {
   "cell_type": "markdown",
   "id": "interesting-screw",
   "metadata": {},
   "source": [
    "### 1.3 Measuring Observables\n",
    "Qoqo includes the direct evaluation of projective measurements to an observable measurement e.g. 3 * < Z0 > + < Z0 Z1 >.\n",
    "The measurement is defined by a set of expectation values of a product of pauli operators and a matrix that combines the expectation values."
   ]
  },
  {
   "cell_type": "code",
   "execution_count": 5,
   "id": "9c6fee58",
   "metadata": {},
   "outputs": [
    {
     "name": "stdout",
     "output_type": "stream",
     "text": [
      ">> Measurement input defined:  BasisRotationInput { pauli_product_qubit_masks: {\"ro\": {0: [0], 1: [0, 1]}}, number_qubits: 2, number_pauli_products: 2, measured_exp_vals: {\"example\": Linear({1: 1.0, 0: 3.0})}, use_flipped_measurement: false }\n",
      ">> Result of Quantum Program:  0.3999999999999999\n"
     ]
    }
   ],
   "source": [
    ":dep roqoqo = \"0.10.0\"\n",
    ":dep roqoqo-quest = \"0.3.0\"\n",
    "\n",
    "extern crate roqoqo;\n",
    "extern crate roqoqo_quest;\n",
    "use roqoqo_quest::Backend;\n",
    "use roqoqo::{Circuit, operations::*, registers::*, QuantumProgram};\n",
    "use roqoqo::measurements::{BasisRotationInput, BasisRotation};\n",
    "use std::collections::HashMap;\n",
    "\n",
    "let mut circuit = Circuit::new();\n",
    "circuit.add_operation(DefinitionBit::new(\"ro\".to_string(), 2, true));\n",
    "circuit.add_operation(Hadamard::new(0));\n",
    "circuit.add_operation(CNOT::new(0,1));\n",
    "circuit.add_operation(PragmaRepeatedMeasurement::new(\"ro\".to_string(), 10, None));\n",
    "\n",
    "let mut measurement_input = BasisRotationInput::new(2, false);\n",
    "// From readout 'ro' measure two pauli products 0: < Z0 > and 1: < Z0 Z1 >\n",
    "measurement_input.add_pauli_product(\"ro\".to_string(), vec![0]);\n",
    "measurement_input.add_pauli_product(\"ro\".to_string(), vec![0, 1]);\n",
    "// One expectation value: 3 * pauli_product0 + 1 * pauli_product1\n",
    "measurement_input.add_linear_exp_val(\"example\".to_string(), HashMap::from([(0, 3.0), (1, 1.0)]));\n",
    "println!(\"{} {:?}\", \">> Measurement input defined: \", measurement_input);\n",
    "\n",
    "let measurement = BasisRotation {\n",
    "    input: measurement_input,\n",
    "    circuits: vec![circuit.clone()],\n",
    "    constant_circuit: None,\n",
    "};\n",
    "let backend = Backend::new(2);\n",
    "let program = QuantumProgram::BasisRotation {\n",
    "    measurement: measurement,\n",
    "    input_parameter_names: vec![],\n",
    "};\n",
    "\n",
    "// Measurement result\n",
    "let result = program.run(backend, &[]).unwrap().unwrap()[\"example\"];\n",
    "println!(\"{} {:?}\", \">> Result of Quantum Program: \", result);\n",
    "\n",
    "// Validation check\n",
    "assert!(result > - 4.0 * 10.0);\n",
    "assert!(result < 4.0 * 10.0);\n"
   ]
  },
  {
   "cell_type": "markdown",
   "id": "typical-contract",
   "metadata": {},
   "source": [
    "### 1.4 De/Serializing the quantum program\n",
    "\n",
    "Same procedure as introduced in the example 1.3 \"Measurement observables\", but now the measurement, and afterwards the quantum program, are serialized to and de-serialized from json. The measurement result is compared before and after the de/-serialization."
   ]
  },
  {
   "cell_type": "code",
   "execution_count": 6,
   "id": "c47154ca",
   "metadata": {},
   "outputs": [
    {
     "name": "stdout",
     "output_type": "stream",
     "text": [
      ">> Measurement input defined:  BasisRotationInput { pauli_product_qubit_masks: {\"ro\": {1: [0, 1], 0: [0]}}, number_qubits: 2, number_pauli_products: 2, measured_exp_vals: {\"example\": Linear({0: 3.0, 1: 1.0})}, use_flipped_measurement: false }\n",
      ">> De/Serialization of BasisRotation performed successfully.\n",
      ">> De/Serialization of QuantumProgram performed successfully.\n"
     ]
    }
   ],
   "source": [
    ":dep roqoqo = \"0.10.0\"\n",
    ":dep roqoqo-quest = \"0.3.0\"\n",
    "\n",
    "extern crate roqoqo;\n",
    "extern crate roqoqo_quest;\n",
    "use roqoqo_quest::Backend;\n",
    "extern crate serde_json;\n",
    "use roqoqo::{Circuit, operations::*, registers::*, QuantumProgram};\n",
    "use roqoqo::measurements::{BasisRotationInput, BasisRotation};\n",
    "\n",
    "use std::collections::HashMap;\n",
    "\n",
    "let mut circuit = Circuit::new();\n",
    "circuit.add_operation(DefinitionBit::new(\"ro\".to_string(), 2, true));\n",
    "circuit.add_operation(PauliX::new(0));\n",
    "circuit.add_operation(CNOT::new(0,1));\n",
    "circuit.add_operation(PragmaRepeatedMeasurement::new(\"ro\".to_string(), 10, None));\n",
    "\n",
    "let mut measurement_input = BasisRotationInput::new(2, false);\n",
    "// From readout 'ro' measure two pauli products 0: < Z0 > and 1: < Z0 Z1 >\n",
    "measurement_input.add_pauli_product(\"ro\".to_string(), vec![0]);\n",
    "measurement_input.add_pauli_product(\"ro\".to_string(), vec![0, 1]);\n",
    "// One expectation value: 3 * pauli_product0 + 1 * pauli_product1\n",
    "measurement_input.add_linear_exp_val(\"example\".to_string(), HashMap::from([(0, 3.0), (1, 1.0)]));\n",
    "println!(\"{} {:?}\", \">> Measurement input defined: \", measurement_input);\n",
    "\n",
    "let measurement = BasisRotation {\n",
    "    input: measurement_input,\n",
    "    circuits: vec![circuit.clone()],\n",
    "    constant_circuit: None,\n",
    "};\n",
    "let backend = Backend::new(2);\n",
    "let program = QuantumProgram::BasisRotation {\n",
    "    measurement: measurement.clone(),\n",
    "    input_parameter_names: vec![],\n",
    "};\n",
    "\n",
    "// First, let's de-/serialize the BasisRotation measurement and test the outcome\n",
    "let measurement_json = serde_json::to_string(&measurement).unwrap();\n",
    "let measurement_new: BasisRotation = serde_json::from_str(&measurement_json).unwrap();\n",
    "assert!(measurement_new == measurement);\n",
    "println!(\">> De/Serialization of BasisRotation performed successfully.\");\n",
    "\n",
    "// Next, de-/serialize the Quantum Program\n",
    "let program_json = serde_json::to_string(&program).unwrap();\n",
    "let program_new: QuantumProgram = serde_json::from_str(&program_json).unwrap();\n",
    "assert!(program == program_new.clone());\n",
    "println!(\">> De/Serialization of QuantumProgram performed successfully.\");"
   ]
  },
  {
   "cell_type": "markdown",
   "id": "parliamentary-statistics",
   "metadata": {},
   "source": [
    "## 2. Fine control over decoherence\n",
    "Qoqo allows full control over decoherence by placing decoherence operations in the circuit on the same level as gates.  \n",
    "Example: Letting only one qubit decay.  \n",
    "The backend automatically switches from statevector simulation to density matrix simulation in the presence of noise."
   ]
  },
  {
   "cell_type": "code",
   "execution_count": 7,
   "id": "e9c0a647",
   "metadata": {},
   "outputs": [
    {
     "name": "stdout",
     "output_type": "stream",
     "text": [
      ">> Circuit:  Circuit { definitions: [DefinitionBit(DefinitionBit { name: \"ro\", length: 2, is_output: true })], operations: [PauliX(PauliX { qubit: 0 }), PauliX(PauliX { qubit: 1 }), PragmaDamping(PragmaDamping { qubit: 0, gate_time: Float(1.0), rate: Float(0.1) }), PragmaRepeatedMeasurement(PragmaRepeatedMeasurement { readout: \"ro\", number_measurements: 100, qubit_mapping: None })], _roqoqo_version: RoqoqoVersion }\n",
      ">> Raw result:  Ok(({\"ro\": [[true, true], [false, true], [true, true], [true, true], [true, true], [true, true], [true, true], [true, true], [true, true], [true, true], [true, true], [true, true], [true, true], [true, true], [true, true], [true, true], [true, true], [true, true], [true, true], [true, true], [true, true], [true, true], [true, true], [true, true], [true, true], [true, true], [true, true], [true, true], [false, true], [true, true], [true, true], [true, true], [true, true], [true, true], [true, true], [true, true], [true, true], [true, true], [true, true], [true, true], [true, true], [true, true], [true, true], [true, true], [true, true], [true, true], [true, true], [true, true], [false, true], [true, true], [true, true], [true, true], [true, true], [true, true], [true, true], [true, true], [true, true], [true, true], [true, true], [true, true], [true, true], [true, true], [true, true], [true, true], [true, true], [true, true], [true, true], [true, true], [true, true], [true, true], [true, true], [true, true], [true, true], [true, true], [true, true], [true, true], [true, true], [true, true], [true, true], [true, true], [true, true], [true, true], [true, true], [true, true], [true, true], [false, true], [true, true], [true, true], [true, true], [true, true], [true, true], [true, true], [true, true], [true, true], [true, true], [true, true], [true, true], [true, true], [true, true], [true, true]]}, {}, {}))\n",
      "[96.0, 100.0]\n",
      ">> Scaled result:  [0.96, 1.0]\n"
     ]
    }
   ],
   "source": [
    ":dep roqoqo = \"0.10.0\"\n",
    ":dep roqoqo-quest = \"0.3.0\"\n",
    "\n",
    "extern crate roqoqo;\n",
    "extern crate roqoqo_quest;\n",
    "use roqoqo_quest::Backend;\n",
    "use roqoqo::{Circuit, operations::*, registers::*};\n",
    "use roqoqo::backends::{EvaluatingBackend, RegisterResult};\n",
    "use std::collections::HashMap;\n",
    "\n",
    "let damping = 0.1;\n",
    "let number_measurements = 100;\n",
    "let mut circuit = Circuit::new();\n",
    "circuit += DefinitionBit::new(\"ro\".to_string(), 2, true);\n",
    "circuit += PauliX::new(0);\n",
    "circuit += PauliX::new(1);\n",
    "circuit += PragmaDamping::new(0, 1.into(), damping.into());\n",
    "circuit += PragmaRepeatedMeasurement::new(\"ro\".to_string(), number_measurements, None);\n",
    "println!(\"{} {:?}\", \">> Circuit: \", circuit);\n",
    "\n",
    "let backend = Backend::new(2);\n",
    "let result: RegisterResult = backend.run_circuit(&circuit);\n",
    "println!(\"{} {:?}\", \">> Raw result: \", result);\n",
    "let result_registers: (\n",
    "    HashMap<String, BitOutputRegister>,\n",
    "    HashMap<String, FloatOutputRegister>,\n",
    "    HashMap<String, ComplexOutputRegister>,\n",
    ") = result.unwrap();\n",
    "\n",
    "let mut sum_test = [0.0, 0.0];\n",
    "for single_measurement in &result_registers.0[\"ro\"] {\n",
    "    for i in 0..2 {\n",
    "        let single_projective_measurement = match single_measurement[i] {\n",
    "            true => 1.0,\n",
    "            false => 0.0,\n",
    "        };\n",
    "        sum_test[i] += single_projective_measurement\n",
    "    }\n",
    "};\n",
    "println!(\"{:?}\", sum_test);\n",
    "let scaled_result = [sum_test[0] / number_measurements as f64, sum_test[1] / number_measurements as f64];\n",
    " println!(\"{} {:?}\", \">> Scaled result: \", scaled_result);"
   ]
  },
  {
   "cell_type": "markdown",
   "id": "prostate-analysis",
   "metadata": {},
   "source": [
    "## 3. Symbolic parameters\n",
    "In many cases, operation parameters depend on a symbolic parameter of the whole quantum program (time in time-evolution, overrotation, variational parameters...)  \n",
    "Qoqo allows the fast calculation of symbolic parameter expressions.  \n",
    "Expressions are provided in string form.  \n",
    "DoUnitary can automatically replace symbolic parameters using call parameters."
   ]
  },
  {
   "cell_type": "markdown",
   "id": "cross-forest",
   "metadata": {},
   "source": [
    "### 3.1 Writing the symbolic circuit and replacing symbolic parameters"
   ]
  },
  {
   "cell_type": "code",
   "execution_count": 8,
   "id": "21384550",
   "metadata": {},
   "outputs": [
    {
     "name": "stdout",
     "output_type": "stream",
     "text": [
      "Symbolic circuit:  Circuit { definitions: [], operations: [RotateX(RotateX { qubit: 0, theta: Str(\"3*time+offset\") })], _roqoqo_version: RoqoqoVersion }\n",
      "After substitution:  Circuit { definitions: [], operations: [RotateX(RotateX { qubit: 0, theta: Float(2.0) })], _roqoqo_version: RoqoqoVersion }\n"
     ]
    }
   ],
   "source": [
    ":dep roqoqo = \"0.10.0\"\n",
    ":dep qoqo_calculator = \"0.6\"\n",
    "\n",
    "extern crate roqoqo;\n",
    "extern crate qoqo_calculator;\n",
    "use roqoqo::{Circuit, operations::*};\n",
    "use qoqo_calculator::Calculator;\n",
    "\n",
    "let mut circuit = Circuit::new();\n",
    "circuit.add_operation(RotateX::new(0, \"3*time+offset\".into()));\n",
    "println!(\"{} {:?}\", \"Symbolic circuit: \", circuit);\n",
    "\n",
    "let mut substitution_dict: Calculator = Calculator::new();\n",
    "substitution_dict.set_variable(\"time\", 1.0 / 3.0);\n",
    "substitution_dict.set_variable(\"offset\", 1.0);\n",
    "let circuit2 = circuit.substitute_parameters(&mut substitution_dict).unwrap();\n",
    "println!(\"{} {:?}\", \"After substitution: \", circuit2);"
   ]
  },
  {
   "cell_type": "markdown",
   "id": "talented-operations",
   "metadata": {},
   "source": [
    "### 3.2 Symbolic parameters in a full quantum program"
   ]
  },
  {
   "cell_type": "code",
   "execution_count": 9,
   "id": "d1b56c83",
   "metadata": {},
   "outputs": [
    {
     "name": "stdout",
     "output_type": "stream",
     "text": [
      "Result of Quantum Program:  0.8\n"
     ]
    }
   ],
   "source": [
    ":dep roqoqo = \"0.10.0\"\n",
    ":dep roqoqo-quest = \"0.3.0\"\n",
    ":dep qoqo_calculator = \"0.6\"\n",
    "\n",
    "extern crate roqoqo;\n",
    "extern crate roqoqo_quest;\n",
    "extern crate qoqo_calculator;\n",
    "use qoqo_calculator::Calculator;\n",
    "use roqoqo_quest::Backend;\n",
    "use roqoqo::{Circuit, operations::*, registers::*, QuantumProgram};\n",
    "use roqoqo::measurements::{BasisRotationInput, BasisRotation};\n",
    "use std::collections::HashMap;\n",
    "\n",
    "let number_measurements = 100000;\n",
    "\n",
    "let mut circuit = Circuit::new();\n",
    "circuit.add_operation(DefinitionBit::new(\"ro\".to_string(), 2, true));\n",
    "circuit.add_operation(RotateX::new(0, \"3*time+offset\".into()));\n",
    "circuit.add_operation(PragmaRepeatedMeasurement::new(\"ro\".to_string(), 10, None));\n",
    "\n",
    "let mut measurement_input = BasisRotationInput::new(2, false);\n",
    "measurement_input.add_pauli_product(\"ro\".to_string(), vec![0]);\n",
    "measurement_input.add_pauli_product(\"ro\".to_string(), vec![0, 1]);\n",
    "measurement_input.add_linear_exp_val(\"example\".to_string(), HashMap::from([(0, 3.0), (1, 1.0)]));\n",
    "\n",
    "let measurement = BasisRotation {\n",
    "    input: measurement_input,\n",
    "    circuits: vec![circuit.clone()],\n",
    "    constant_circuit: None,\n",
    "};\n",
    "let backend = Backend::new(2);\n",
    "// The symbolic parameters are passed to the QuantumProgram. These are the free parameters.\n",
    "let program = QuantumProgram::BasisRotation {\n",
    "    measurement: measurement,\n",
    "    input_parameter_names: vec![\"time\".to_string(), \"offset\".to_string()],\n",
    "};\n",
    "\n",
    "// Set the free parameters when executing the program\n",
    "let result = program.run(backend, &[0.5, 0.0]).unwrap().unwrap()[\"example\"];\n",
    "println!(\"{} {:?}\", \"Result of Quantum Program: \", result);"
   ]
  },
  {
   "cell_type": "markdown",
   "id": "ready-benjamin",
   "metadata": {},
   "source": [
    "## 4. Testing scaling performance with qoqo_mock\n",
    "Quantum simulators cannot simulate systems with a significant number of qubits fast enough to benchmark qoqo with a large number of qubits and operations.\n",
    "The qoqo_mock interface can be used to benchmark qoqo without simulating a quantum computer."
   ]
  },
  {
   "cell_type": "code",
   "execution_count": 13,
   "id": "754ab354",
   "metadata": {},
   "outputs": [
    {
     "name": "stderr",
     "output_type": "stream",
     "text": [
      "The type of the variable measurement_new was redefined, so was lost.\n",
      "The type of the variable program_new was redefined, so was lost.\n",
      "The type of the variable circuit was redefined, so was lost.\n",
      "The type of the variable program was redefined, so was lost.\n",
      "The type of the variable circuit2 was redefined, so was lost.\n"
     ]
    },
    {
     "name": "stdout",
     "output_type": "stream",
     "text": [
      "Result of Quantum Program:  0.0\n",
      "Program run time [in sec]:  3.2846e-5\n"
     ]
    }
   ],
   "source": [
    ":dep rand = \"0.8.4\"\n",
    ":dep roqoqo = \"0.9.0\"\n",
    ":dep roqoqo-mock = \"0.2.2\"\n",
    "\n",
    "extern crate roqoqo;\n",
    "extern crate roqoqo_mock;\n",
    "extern crate timeit;\n",
    "\n",
    "use roqoqo::{Circuit, operations::*, registers::*, QuantumProgram};\n",
    "use roqoqo::measurements::{BasisRotationInput, BasisRotation};\n",
    "use roqoqo_mock::Backend;\n",
    "use timeit::*;\n",
    "\n",
    "use rand::distributions::{Standard, Uniform};\n",
    "use rand::prelude::*;\n",
    "use rand::rngs::StdRng;\n",
    "use rand::thread_rng;\n",
    "use std::collections::HashMap;\n",
    "\n",
    "let number_measurements = 10;\n",
    "let number_operations = 100;\n",
    "let number_qubits: usize = 5;\n",
    "\n",
    "let mut circuit = Circuit::new();\n",
    "circuit.add_operation(DefinitionBit::new(\"ro\".to_string(), number_qubits, true));\n",
    "\n",
    "let mut rng = thread_rng();\n",
    "let qubits_distribution = Uniform::from(0..number_qubits);\n",
    "let two_qubits_distribution = Uniform::from(0..number_qubits-1);\n",
    "let operations_distribution = Uniform::from(0..number_operations);\n",
    "\n",
    "let new_op: Operation = match operations_distribution.sample(&mut rng) {\n",
    "    0 => RotateX::new(qubits_distribution.sample(&mut rng), \"4*theta_x\".to_string().into()).into(),\n",
    "    1 => RotateY::new(qubits_distribution.sample(&mut rng), \"2*theta_y\".to_string().into()).into(),\n",
    "    2 => RotateZ::new(qubits_distribution.sample(&mut rng), \"3*theta_z\".to_string().into()).into(),\n",
    "    4 => {\n",
    "        let qubit = two_qubits_distribution.sample(&mut rng);\n",
    "        ControlledPauliZ::new(qubit, qubit+1).into()\n",
    "    }\n",
    "    _ => RotateZ::new(qubits_distribution.sample(&mut rng), 0.into()).into(),\n",
    "};\n",
    "\n",
    "circuit.add_operation(new_op);\n",
    "circuit.add_operation(PragmaRepeatedMeasurement::new(\"ro\".to_string(), number_measurements, None));\n",
    "\n",
    "let mut measurement_input = BasisRotationInput::new(number_qubits, false);\n",
    "for i in 0..number_qubits-1 {\n",
    "    measurement_input.add_pauli_product(\"ro\".to_string(), vec![i]);\n",
    "}\n",
    "measurement_input.add_linear_exp_val(\"example\".to_string(), HashMap::from([(0, 1.0)]));\n",
    "let measurement = BasisRotation {\n",
    "    input: measurement_input,\n",
    "    circuits: vec![circuit.clone()],\n",
    "    constant_circuit: None,\n",
    "};\n",
    "let backend = Backend::new(number_qubits);\n",
    "\n",
    "let program = QuantumProgram::BasisRotation {\n",
    "    measurement: measurement,\n",
    "    input_parameter_names: vec![\"theta_x\".to_string(), \"theta_y\".to_string(), \"theta_z\".to_string()],\n",
    "};\n",
    "\n",
    "let sec = timeit_loops!(1, {\n",
    "    let result = program.run(backend.clone(), &[0.0, 1.0, 2.0]).unwrap().unwrap()[\"example\"];\n",
    "    println!(\"{} {:?}\", \"Result of Quantum Program: \", result);\n",
    "});\n",
    "println!(\"{} {:?}\", \"Program run time [in sec]: \", sec);\n",
    "\n",
    "get_time();\n"
   ]
  }
 ],
 "metadata": {
  "kernelspec": {
   "display_name": "Rust",
   "language": "rust",
   "name": "rust"
  },
  "language_info": {
   "codemirror_mode": "rust",
   "file_extension": ".rs",
   "mimetype": "text/rust",
   "name": "Rust",
   "pygment_lexer": "rust",
   "version": ""
  }
 },
 "nbformat": 4,
 "nbformat_minor": 5
}
