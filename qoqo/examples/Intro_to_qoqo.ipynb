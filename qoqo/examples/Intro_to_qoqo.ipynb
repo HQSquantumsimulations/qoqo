{
 "cells": [
  {
   "cell_type": "markdown",
   "source": [
    "# Introduction to Qoqo\n",
    "Quantum Operation Quantum Operation  \n",
    "Yes, we use [reduplication](https://en.wikipedia.org/wiki/Reduplication)\n",
    "\n",
    "What Qoqo is\n",
    "* A toolkit to represent quantum operations and circuits\n",
    "* A thin runtime to run quantum measurements\n",
    "* A way to serialize quantum circuits and measurement information\n",
    "* A set of optional interfaces to devices, simulators and toolkits\n",
    "\n",
    "What Qoqo is not\n",
    "* A decomposer translating circuits to a specific set of gates\n",
    "* A quantum circuit optimizer\n",
    "* A collection of quantum algorithms\n"
   ],
   "metadata": {}
  },
  {
   "cell_type": "markdown",
   "source": [
    "## A simple circuit and measurement\n",
    "\n",
    "We show the construction of a simple entangling circuit and an observable measurement based on this circuit"
   ],
   "metadata": {}
  },
  {
   "cell_type": "markdown",
   "source": [
    "### Entangling circuit snippet\n",
    "Similar to many other toolkits the unitary entangling circuit can be constructed by adding operations to a circuit"
   ],
   "metadata": {}
  },
  {
   "cell_type": "code",
   "execution_count": 4,
   "source": [
    "from qoqo import Circuit\n",
    "from qoqo import operations as ops\n",
    "\n",
    "circuit_snippet = Circuit()\n",
    "circuit_snippet += ops.Hadamard(qubit=0)\n",
    "circuit_snippet += ops.CNOT(control=0, target=1)\n",
    "print(circuit_snippet)\n",
    "print(len(circuit_snippet))\n",
    "print(circuit_snippet.get_operation_types())\n",
    "\n",
    "assert len(circuit_snippet) == 2\n",
    "assert circuit_snippet.get_operation_types() == set(['Hadamard', 'CNOT'])"
   ],
   "outputs": [
    {
     "output_type": "stream",
     "name": "stdout",
     "text": [
      "Hadamard(Hadamard { qubit: 0 })\n",
      "CNOT(CNOT { control: 0, target: 1 })\n",
      "\n",
      "2\n",
      "{'Hadamard', 'CNOT'}\n"
     ]
    }
   ],
   "metadata": {}
  },
  {
   "cell_type": "markdown",
   "source": [
    "### Measuring qubits\n",
    "Qoqo uses classical registers for the readout. We need to add a classical register definition to the circuit and a measurement statement.\n",
    "The number of projective measurements can be directly set in the circuit.  \n",
    "The simulation and measurement of the circuit is handled by the qoqo_pyquest interface (in this example)."
   ],
   "metadata": {}
  },
  {
   "cell_type": "code",
   "execution_count": 5,
   "source": [
    "from qoqo_pyquest import PyQuestBackend\n",
    "from qoqo import Circuit\n",
    "from qoqo import operations as ops\n",
    "\n",
    "circuit = Circuit()\n",
    "circuit += ops.DefinitionBit(name='ro', length=2, is_output=True)\n",
    "circuit += ops.Hadamard(qubit=0)\n",
    "circuit += ops.CNOT(control=0, target=1)\n",
    "circuit += ops.PragmaRepeatedMeasurement(readout='ro', number_measurements=10, qubit_mapping=None)\n",
    "backend = PyQuestBackend(number_qubits=2)\n",
    "(result_bit_registers, result_float_registers, result_complex_registers) = backend.run_circuit(circuit)\n",
    "for single_projective_measurement in result_bit_registers['ro'] :\n",
    "    print(single_projective_measurement)\n",
    "    \n",
    "assert len(result_bit_registers['ro']) == 10"
   ],
   "outputs": [
    {
     "output_type": "stream",
     "name": "stdout",
     "text": [
      "[1.0, 1.0]\n",
      "[0.0, 0.0]\n",
      "[1.0, 1.0]\n",
      "[1.0, 1.0]\n",
      "[0.0, 0.0]\n",
      "[0.0, 0.0]\n",
      "[0.0, 0.0]\n",
      "[1.0, 1.0]\n",
      "[1.0, 1.0]\n",
      "[1.0, 1.0]\n"
     ]
    }
   ],
   "metadata": {}
  },
  {
   "cell_type": "markdown",
   "source": [
    "### Measuring Observables\n",
    "Qoqo includes the direct evaluation of projective measurements to an observable measurement e.g. 3 * < Z0 > + < Z0 Z1 >  \n",
    "The measurement is defined by a set of expectation values of a product of pauli operators and a matrix that combines the expectation values  "
   ],
   "metadata": {}
  },
  {
   "cell_type": "code",
   "execution_count": 6,
   "source": [
    "from qoqo.measurements import BasisRotationInput, BasisRotation\n",
    "from qoqo import DoUnitary\n",
    "from qoqo_pyquest import PyQuestBackend\n",
    "from qoqo import Circuit\n",
    "from qoqo import operations as ops\n",
    "import numpy as np\n",
    "import scipy.sparse as sp\n",
    "\n",
    "circuit = Circuit()\n",
    "circuit += ops.DefinitionBit(name='ro', length=2, is_output=True)\n",
    "circuit += ops.PauliX(qubit=0)\n",
    "#circuit += ops.Hadamard(qubit=0)\n",
    "circuit += ops.CNOT(control=0, target=1)\n",
    "circuit += ops.PragmaRepeatedMeasurement(readout='ro', number_measurements=10, qubit_mapping=None)\n",
    "\n",
    "measurement_input = BasisRotationInput(number_qubits=2, use_flipped_measurement=False)\n",
    "index0 = measurement_input.add_pauli_product(readout=\"ro\", pauli_product_mask=[0])\n",
    "index1 = measurement_input.add_pauli_product(readout=\"ro\", pauli_product_mask=[0,1]) # From readout 'ro' measure two pauli products 0: < Z0 > and 1: < Z0 Z1 >\n",
    "measurement_input.add_linear_exp_val(name=\"example\", linear={0:1.0, 1: 0.0}) # One expectation value: 3 * pauli_product0 + 1 * pauli_product1\n",
    "\n",
    "measurement = BasisRotation(input=measurement_input, circuits=[circuit], constant_circuit=None )\n",
    "\n",
    "backend = PyQuestBackend(number_qubits=2)\n",
    "\n",
    "do_unitary = DoUnitary(measurement=measurement, backend=backend, free_parameters=[]) # This quantum program does not have any free parameters\n",
    "res = do_unitary()[\"example\"]\n",
    "\n",
    "print(\"Result of DoUnitary\", res)\n",
    "\n",
    "assert res > -4.0 * 10\n",
    "assert res < 4.0 * 10"
   ],
   "outputs": [
    {
     "output_type": "error",
     "ename": "TypeError",
     "evalue": "'float' object cannot be interpreted as an integer",
     "traceback": [
      "\u001b[0;31m---------------------------------------------------------------------------\u001b[0m",
      "\u001b[0;31mTypeError\u001b[0m                                 Traceback (most recent call last)",
      "\u001b[0;32m/tmp/ipykernel_5360/2486775377.py\u001b[0m in \u001b[0;36m<module>\u001b[0;34m\u001b[0m\n\u001b[1;32m     24\u001b[0m \u001b[0;34m\u001b[0m\u001b[0m\n\u001b[1;32m     25\u001b[0m \u001b[0mdo_unitary\u001b[0m \u001b[0;34m=\u001b[0m \u001b[0mDoUnitary\u001b[0m\u001b[0;34m(\u001b[0m\u001b[0mmeasurement\u001b[0m\u001b[0;34m=\u001b[0m\u001b[0mmeasurement\u001b[0m\u001b[0;34m,\u001b[0m \u001b[0mbackend\u001b[0m\u001b[0;34m=\u001b[0m\u001b[0mbackend\u001b[0m\u001b[0;34m,\u001b[0m \u001b[0mfree_parameters\u001b[0m\u001b[0;34m=\u001b[0m\u001b[0;34m[\u001b[0m\u001b[0;34m]\u001b[0m\u001b[0;34m)\u001b[0m \u001b[0;31m# This quantum program does not have any free parameters\u001b[0m\u001b[0;34m\u001b[0m\u001b[0;34m\u001b[0m\u001b[0m\n\u001b[0;32m---> 26\u001b[0;31m \u001b[0mres\u001b[0m \u001b[0;34m=\u001b[0m \u001b[0mdo_unitary\u001b[0m\u001b[0;34m(\u001b[0m\u001b[0;34m)\u001b[0m\u001b[0;34m[\u001b[0m\u001b[0;34m\"example\"\u001b[0m\u001b[0;34m]\u001b[0m\u001b[0;34m\u001b[0m\u001b[0;34m\u001b[0m\u001b[0m\n\u001b[0m\u001b[1;32m     27\u001b[0m \u001b[0;34m\u001b[0m\u001b[0m\n\u001b[1;32m     28\u001b[0m \u001b[0mprint\u001b[0m\u001b[0;34m(\u001b[0m\u001b[0;34m\"Result of DoUnitary\"\u001b[0m\u001b[0;34m,\u001b[0m \u001b[0mres\u001b[0m\u001b[0;34m)\u001b[0m\u001b[0;34m\u001b[0m\u001b[0;34m\u001b[0m\u001b[0m\n",
      "\u001b[0;32m~/.local/lib/python3.8/site-packages/qoqo/do_unitary/do_unitary.py\u001b[0m in \u001b[0;36m__call__\u001b[0;34m(self, parameters)\u001b[0m\n\u001b[1;32m    107\u001b[0m         \u001b[0mrun_measurement\u001b[0m \u001b[0;34m=\u001b[0m \u001b[0mself\u001b[0m\u001b[0;34m.\u001b[0m\u001b[0m_measurement\u001b[0m\u001b[0;34m.\u001b[0m\u001b[0msubstitute_parameters\u001b[0m\u001b[0;34m(\u001b[0m\u001b[0mparameter_substitution_dict\u001b[0m\u001b[0;34m)\u001b[0m\u001b[0;34m\u001b[0m\u001b[0;34m\u001b[0m\u001b[0m\n\u001b[1;32m    108\u001b[0m \u001b[0;34m\u001b[0m\u001b[0m\n\u001b[0;32m--> 109\u001b[0;31m         \u001b[0mexpectation_values\u001b[0m \u001b[0;34m=\u001b[0m \u001b[0mself\u001b[0m\u001b[0;34m.\u001b[0m\u001b[0m_backend\u001b[0m\u001b[0;34m.\u001b[0m\u001b[0mrun_measurement\u001b[0m\u001b[0;34m(\u001b[0m\u001b[0mrun_measurement\u001b[0m\u001b[0;34m)\u001b[0m\u001b[0;34m\u001b[0m\u001b[0;34m\u001b[0m\u001b[0m\n\u001b[0m\u001b[1;32m    110\u001b[0m         \u001b[0;32mif\u001b[0m \u001b[0mexpectation_values\u001b[0m \u001b[0;32mis\u001b[0m \u001b[0;32mNone\u001b[0m\u001b[0;34m:\u001b[0m\u001b[0;34m\u001b[0m\u001b[0;34m\u001b[0m\u001b[0m\n\u001b[1;32m    111\u001b[0m             \u001b[0;31m# if self._resume_file_name is not None:\u001b[0m\u001b[0;34m\u001b[0m\u001b[0;34m\u001b[0m\u001b[0;34m\u001b[0m\u001b[0m\n",
      "\u001b[0;32m~/.local/lib/python3.8/site-packages/qoqo_pyquest/backend/pyquest_cffi_backend.py\u001b[0m in \u001b[0;36mrun_measurement\u001b[0;34m(self, measurement)\u001b[0m\n\u001b[1;32m    217\u001b[0m             \u001b[0moutput_float_register_dict\u001b[0m\u001b[0;34m,\u001b[0m\u001b[0;34m\u001b[0m\u001b[0;34m\u001b[0m\u001b[0m\n\u001b[1;32m    218\u001b[0m             output_complex_register_dict) = self.run_measurement_registers(measurement)\n\u001b[0;32m--> 219\u001b[0;31m         return measurement.evaluate(\n\u001b[0m\u001b[1;32m    220\u001b[0m             \u001b[0moutput_bit_register_dict\u001b[0m\u001b[0;34m,\u001b[0m\u001b[0;34m\u001b[0m\u001b[0;34m\u001b[0m\u001b[0m\n\u001b[1;32m    221\u001b[0m             \u001b[0moutput_float_register_dict\u001b[0m\u001b[0;34m,\u001b[0m\u001b[0;34m\u001b[0m\u001b[0;34m\u001b[0m\u001b[0m\n",
      "\u001b[0;31mTypeError\u001b[0m: 'float' object cannot be interpreted as an integer"
     ]
    }
   ],
   "metadata": {}
  },
  {
   "cell_type": "markdown",
   "source": [
    "### De/Serializing the quantum program"
   ],
   "metadata": {}
  },
  {
   "cell_type": "code",
   "execution_count": null,
   "source": [
    "from qoqo.measurements import BasisRotationInput, BasisRotation\n",
    "from qoqo import DoUnitary\n",
    "from qoqo_pyquest import PyQuestBackend\n",
    "from qoqo import Circuit\n",
    "from qoqo import operations as ops\n",
    "import numpy as np\n",
    "import scipy.sparse as sp\n",
    "\n",
    "circuit = Circuit()\n",
    "circuit += ops.DefinitionBit(name='ro', length=2, is_output=True)\n",
    "circuit += ops.Hadamard(qubit=0)\n",
    "circuit += ops.CNOT(control=0, target=1)\n",
    "circuit += ops.PragmaRepeatedMeasurement(readout='ro', number_measurements=10, qubit_mapping=None)\n",
    "\n",
    "measurement_input = BasisRotationInput(number_qubits=2, use_flipped_measurement=False)\n",
    "index0 = measurement_input.add_pauli_product(readout=\"ro\", pauli_product_mask=[0])\n",
    "index1 = measurement_input.add_pauli_product(readout=\"ro\", pauli_product_mask=[0,1]) # From readout 'ro' measure two pauli products 0: < Z0 > and 1: < Z0 Z1 >\n",
    "measurement_input.add_linear_exp_val(name=\"example\", linear={0:3.0, 1: 1.0}) # One expectation value: 3 * pauli_product0 + 1 * pauli_product1\n",
    "\n",
    "measurement = BasisRotation(input=measurement_input, circuits=[circuit], constant_circuit=None )\n",
    "measurement_json = measurement.to_json()\n",
    "\n",
    "measurement = BasisRotation.from_json(measurement_json)\n",
    "\n",
    "print(measurement_json)\n",
    "\n",
    "assert measurement_json != \"\""
   ],
   "outputs": [
    {
     "output_type": "stream",
     "name": "stdout",
     "text": [
      "{\"constant_circuit\":null,\"circuits\":[{\"definitions\":[{\"DefinitionBit\":{\"name\":\"ro\",\"length\":2,\"is_output\":true}}],\"operations\":[{\"Hadamard\":{\"qubit\":0}},{\"CNOT\":{\"control\":0,\"target\":1}},{\"PragmaRepeatedMeasurement\":{\"readout\":\"ro\",\"qubit_mapping\":null,\"number_measurements\":10}}]}],\"input\":{\"pauli_product_qubit_masks\":{\"ro\":{\"1\":[0,1],\"0\":[0]}},\"number_qubits\":2,\"number_pauli_products\":2,\"measured_exp_vals\":{\"example\":{\"Linear\":{\"0\":3.0,\"1\":1.0}}},\"use_flipped_measurement\":false}}\n"
     ]
    }
   ],
   "metadata": {}
  },
  {
   "cell_type": "markdown",
   "source": [
    "## Fine control over decoherence\n",
    "Qoqo allows full control over decoherence by placing decoherence operations in the circuit on the same level as gates.  \n",
    "Example: Letting only one qubit decay.  \n",
    "The backend automatically switches from statevector simulation to density matrix simulation in the presence of noise."
   ],
   "metadata": {}
  },
  {
   "cell_type": "code",
   "execution_count": null,
   "source": [
    "from qoqo_pyquest import PyQuestBackend\n",
    "from qoqo import Circuit\n",
    "from qoqo import operations as ops\n",
    "\n",
    "damping = 0.1\n",
    "number_measurements = 100\n",
    "circuit = Circuit()\n",
    "circuit += ops.DefinitionBit(name='ro', length=2, is_output=True)\n",
    "circuit += ops.PauliX(qubit=0)\n",
    "circuit += ops.PauliX(qubit=1)\n",
    "circuit += ops.PragmaDamping(qubit=0, gate_time=1, rate=damping)\n",
    "circuit += ops.PragmaRepeatedMeasurement(readout='ro', number_measurements=number_measurements, qubit_mapping=None)\n",
    "print(circuit)\n",
    "backend = PyQuestBackend(number_qubits=2)\n",
    "(result_bit_registers, result_float_registers, result_complex_registers) = backend.run_circuit(circuit)\n",
    "sum_test = np.array([0.0, 0.0])\n",
    "for single_projective_measurement in result_bit_registers['ro']:\n",
    "    #print(single_projective_measurement)\n",
    "    sum_test += single_projective_measurement\n",
    "scaled_result = sum_test/number_measurements\n",
    "print(\"Scaled result\", scaled_result)\n",
    "\n",
    "assert len(scaled_result) == 2"
   ],
   "outputs": [
    {
     "output_type": "stream",
     "name": "stdout",
     "text": [
      "DefinitionBit(DefinitionBit { name: \"ro\", length: 2, is_output: true })\n",
      "PauliX(PauliX { qubit: 0 })\n",
      "PauliX(PauliX { qubit: 1 })\n",
      "PragmaDamping(PragmaDamping { qubit: 0, gate_time: Float(1.0), rate: Float(0.1) })\n",
      "PragmaRepeatedMeasurement(PragmaRepeatedMeasurement { readout: \"ro\", qubit_mapping: None, number_measurements: 100 })\n",
      "\n",
      "Scaled result [0.86 1.  ]\n"
     ]
    }
   ],
   "metadata": {}
  },
  {
   "cell_type": "markdown",
   "source": [
    "## Symbolic parameters\n",
    "In many cases, operation parameters depend on a symbolic parameter of the whole quantum program (time in time-evolution, overrotation, variational parameters...)  \n",
    "Qoqo allows the fast calculation of symbolic parameter expressions.  \n",
    "Expressions are provided in string form.  \n",
    "DoUnitary can automatically replace symbolic parameters using call parameters."
   ],
   "metadata": {}
  },
  {
   "cell_type": "markdown",
   "source": [
    "### Writing the symbolic circuit and replacing symbolic parameters"
   ],
   "metadata": {}
  },
  {
   "cell_type": "code",
   "execution_count": null,
   "source": [
    "from qoqo import Circuit\n",
    "from qoqo import operations as ops\n",
    "circuit = Circuit()\n",
    "print('Symbolic circuit')\n",
    "circuit += ops.RotateX(qubit=0, theta='3*time+offset')\n",
    "\n",
    "print(circuit)\n",
    "\n",
    "circuit2 = circuit.substitute_parameters({'time': 1/3, 'offset':1})\n",
    "print('After substitution')\n",
    "print(circuit2)\n"
   ],
   "outputs": [
    {
     "output_type": "stream",
     "name": "stdout",
     "text": [
      "Symbolic circuit\n",
      "RotateX(RotateX { qubit: 0, theta: Str(\"3*time+offset\") })\n",
      "\n",
      "After substitution\n",
      "RotateX(RotateX { qubit: 0, theta: Float(2.0) })\n",
      "\n"
     ]
    }
   ],
   "metadata": {}
  },
  {
   "cell_type": "markdown",
   "source": [
    "### Symbolic parameters in a full quantum program"
   ],
   "metadata": {}
  },
  {
   "cell_type": "code",
   "execution_count": null,
   "source": [
    "from qoqo.measurements import BasisRotationInput, BasisRotation\n",
    "from qoqo import DoUnitary\n",
    "from qoqo_pyquest import PyQuestBackend\n",
    "from qoqo import Circuit\n",
    "from qoqo import operations as ops\n",
    "import numpy as np\n",
    "import scipy.sparse as sp\n",
    "\n",
    "number_measurements = 100000\n",
    "\n",
    "circuit = Circuit()\n",
    "circuit += ops.DefinitionBit(name='ro', length=2, is_output=True)\n",
    "circuit += ops.RotateX(qubit=0, theta='3*time+offset')\n",
    "circuit += ops.PragmaRepeatedMeasurement(readout='ro', number_measurements=number_measurements, qubit_mapping=None)\n",
    "\n",
    "measurement_input = BasisRotationInput(number_qubits=2, use_flipped_measurement=False)\n",
    "index0 = measurement_input.add_pauli_product(readout=\"ro\", pauli_product_mask=[0])\n",
    "index1 = measurement_input.add_pauli_product(readout=\"ro\", pauli_product_mask=[0,1]) # From readout 'ro' measure two pauli products 0: < Z0 > and 1: < Z0 Z1 >\n",
    "measurement_input.add_linear_exp_val(name=\"example\", linear={0:3.0, 1: 1.0}) # One expectation value: 3 * pauli_product0 + 1 * pauli_product1\n",
    "\n",
    "measurement = BasisRotation(input=measurement_input, circuits=[circuit], constant_circuit=None )\n",
    "\n",
    "backend = PyQuestBackend(number_qubits=2)\n",
    "\n",
    "do_unitary = DoUnitary(measurement=measurement, backend=backend, free_parameters=['time', 'offset']) # The symbolic parameter is the free parameter\n",
    "result = do_unitary([0.5, 0])\n",
    "print(\"Result\", result)\n",
    "\n",
    "assert len(result) == 3"
   ],
   "outputs": [
    {
     "output_type": "stream",
     "name": "stdout",
     "text": [
      "{'time': 0.5, 'offset': 0}\n",
      "Result {'example': 0.29, 'time': 0.5, 'offset': 0}\n"
     ]
    }
   ],
   "metadata": {}
  },
  {
   "cell_type": "markdown",
   "source": [
    "## Testing scaling performance with qoqo_mock\n",
    "Quantum simulators cannot simulate systems with a significant number of qubits fast enough to benchmark qoqo with a large number of qubits and operations.\n",
    "The qoqo_mock interface can be used to benchmark qoqo without simulating a quantum computer."
   ],
   "metadata": {}
  },
  {
   "cell_type": "code",
   "execution_count": null,
   "source": [
    "from qoqo.measurements import BasisRotationInput, BasisRotation\n",
    "from qoqo import DoUnitary\n",
    "from qoqo_mock import MockedBackend\n",
    "from qoqo import Circuit\n",
    "from qoqo import operations as ops\n",
    "import numpy as np\n",
    "import timeit\n",
    "\n",
    "# Default values are small to reduce load for automated testing uncomment values to test large systems\n",
    "\n",
    "number_measurements = 10 # 1000\n",
    "number_operations = 100 # 1000000\n",
    "number_qubits = 5 # 500\n",
    "\n",
    "circuit = Circuit()\n",
    "\n",
    "circuit += ops.DefinitionBit(name='ro', length=number_qubits, is_output=True)\n",
    "\n",
    "for i, q in zip(np.random.randint(0,4,number_operations), np.random.randint(0,500,number_operations)):\n",
    "    if i == 0:\n",
    "        circuit += ops.RotateX(qubit=q, theta=\"4*theta_x\")\n",
    "    if i == 1:\n",
    "        circuit += ops.RotateY(qubit=q, theta=\"2*theta_y\")\n",
    "    if i == 2:\n",
    "        circuit += ops.RotateZ(qubit=q, theta=\"3*theta_z\")\n",
    "    if i == 4:\n",
    "        circuit += ops.ControlledPauliZ(target=q, control=0)\n",
    "circuit += ops.PragmaRepeatedMeasurement(readout='ro', number_measurements=number_measurements, qubit_mapping=None)\n",
    "\n",
    "pp_dict = dict()\n",
    "\n",
    "measurement_input = BasisRotationInput(number_qubits=number_qubits, use_flipped_measurement=False)\n",
    "for i in range(number_qubits):\n",
    "    index0 = measurement_input.add_pauli_product(readout=\"ro\", pauli_product_mask=[i])\n",
    "    pp_dict[number_qubits] = i\n",
    "\n",
    "measurement_input.add_linear_exp_val(name=\"example\", linear={0:1.0})\n",
    "\n",
    "measurement = BasisRotation(input=measurement_input, circuits=[circuit], constant_circuit=None )\n",
    "\n",
    "backend= MockedBackend(number_qubits=number_qubits)\n",
    "do_unitary = DoUnitary(measurement=measurement, backend=backend, free_parameters=['theta_x', 'theta_y', 'theta_z'])\n",
    "res = do_unitary([0,1,2])\n",
    "print(\"Result\", res)\n",
    "time_taken = timeit.timeit('do_unitary([0,1,2])', globals=globals(),number=1)\n",
    "print(\"Time taken\", time_taken)\n",
    "\n",
    "assert len(res) == 4 \n",
    "assert time_taken < 30"
   ],
   "outputs": [
    {
     "output_type": "stream",
     "name": "stdout",
     "text": [
      "{'theta_x': 0, 'theta_y': 1, 'theta_z': 2}\n",
      "Result {'example': -0.00324, 'theta_x': 0, 'theta_y': 1, 'theta_z': 2}\n",
      "{'theta_x': 0, 'theta_y': 1, 'theta_z': 2}\n",
      "Time taken 9.808817166999999\n"
     ]
    }
   ],
   "metadata": {}
  },
  {
   "cell_type": "code",
   "execution_count": null,
   "source": [],
   "outputs": [],
   "metadata": {}
  }
 ],
 "metadata": {
  "kernelspec": {
   "name": "python3",
   "display_name": "Python 3.8.3 64-bit ('base': conda)"
  },
  "language_info": {
   "codemirror_mode": {
    "name": "ipython",
    "version": 3
   },
   "file_extension": ".py",
   "mimetype": "text/x-python",
   "name": "python",
   "nbconvert_exporter": "python",
   "pygments_lexer": "ipython3",
   "version": "3.8.3"
  },
  "interpreter": {
   "hash": "dca0ade3e726a953b501b15e8e990130d2b7799f14cfd9f4271676035ebe5511"
  }
 },
 "nbformat": 4,
 "nbformat_minor": 5
}